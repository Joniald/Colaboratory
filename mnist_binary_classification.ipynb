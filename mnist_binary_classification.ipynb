{
  "nbformat": 4,
  "nbformat_minor": 0,
  "metadata": {
    "colab": {
      "name": "mnist_binary_classification.ipynb",
      "provenance": [],
      "authorship_tag": "ABX9TyMcS4fTXaVZUQdkbEfpuTqh",
      "include_colab_link": true
    },
    "kernelspec": {
      "name": "python3",
      "display_name": "Python 3"
    },
    "language_info": {
      "name": "python"
    }
  },
  "cells": [
    {
      "cell_type": "markdown",
      "metadata": {
        "id": "view-in-github",
        "colab_type": "text"
      },
      "source": [
        "<a href=\"https://colab.research.google.com/github/Joniald/Colaboratory/blob/main/mnist_binary_classification.ipynb\" target=\"_parent\"><img src=\"https://colab.research.google.com/assets/colab-badge.svg\" alt=\"Open In Colab\"/></a>"
      ]
    },
    {
      "cell_type": "markdown",
      "metadata": {
        "id": "yz5GVYZUQ7vk"
      },
      "source": [
        "## Mnist data classification"
      ]
    },
    {
      "cell_type": "code",
      "metadata": {
        "id": "Jif11gzzDIak"
      },
      "source": [
        "import tensorflow as tf\n",
        "import numpy as np\n",
        "import pandas as pd\n",
        "import matplotlib.pyplot as plt"
      ],
      "execution_count": 1,
      "outputs": []
    },
    {
      "cell_type": "code",
      "metadata": {
        "id": "_9GG5XrzBIgX"
      },
      "source": [
        "from sklearn.datasets import fetch_openml\n",
        "mnist = fetch_openml('mnist_784', version=1)"
      ],
      "execution_count": 2,
      "outputs": []
    },
    {
      "cell_type": "code",
      "metadata": {
        "colab": {
          "base_uri": "https://localhost:8080/"
        },
        "id": "R9j7-GHaCKaN",
        "outputId": "b4e7c8a2-1106-400f-9d65-00166188b023"
      },
      "source": [
        "X = mnist.data\n",
        "Y = mnist.target\n",
        "print(X.shape, Y.shape)"
      ],
      "execution_count": 3,
      "outputs": [
        {
          "output_type": "stream",
          "name": "stdout",
          "text": [
            "(70000, 784) (70000,)\n"
          ]
        }
      ]
    },
    {
      "cell_type": "code",
      "metadata": {
        "colab": {
          "base_uri": "https://localhost:8080/",
          "height": 282
        },
        "id": "thgXho5pC59j",
        "outputId": "5a21abb4-c197-4edd-a32a-a4391f4acffd"
      },
      "source": [
        "img = X[0]\n",
        "imag = img.reshape((28,28))\n",
        "plt.imshow(imag, cmap='gray', vmin=0, vmax=255)\n",
        "print(Y[0])"
      ],
      "execution_count": 4,
      "outputs": [
        {
          "output_type": "stream",
          "name": "stdout",
          "text": [
            "5\n"
          ]
        },
        {
          "output_type": "display_data",
          "data": {
            "image/png": "[encoded data removed]",
            "text/plain": [
              "<Figure size 432x288 with 1 Axes>"
            ]
          },
          "metadata": {
            "needs_background": "light"
          }
        }
      ]
    },
    {
      "cell_type": "code",
      "metadata": {
        "colab": {
          "base_uri": "https://localhost:8080/"
        },
        "id": "6pw_rmtkEPrZ",
        "outputId": "26f6660c-557c-4e3d-bc18-c9927375e2a0"
      },
      "source": [
        "print(type(Y[0]))\n",
        "Y = Y.astype(np.uint8)\n",
        "print(type(Y[0]))"
      ],
      "execution_count": 5,
      "outputs": [
        {
          "output_type": "stream",
          "name": "stdout",
          "text": [
            "<class 'str'>\n",
            "<class 'numpy.uint8'>\n"
          ]
        }
      ]
    },
    {
      "cell_type": "code",
      "metadata": {
        "id": "fgqCpU23QjEV"
      },
      "source": [
        "X_train, X_test, y_train, y_test = X[:60000], X[60000:], Y[:60000], Y[60000:]"
      ],
      "execution_count": 6,
      "outputs": []
    },
    {
      "cell_type": "markdown",
      "metadata": {
        "id": "rKmhbTroQyaP"
      },
      "source": [
        "## Training a Binary Classifier"
      ]
    },
    {
      "cell_type": "code",
      "metadata": {
        "id": "nb99loDuRILT"
      },
      "source": [
        "y_train_5 = (y_train == 5) # True for all 5s, False for all other digits\n",
        "y_test_5 = (y_test == 5)"
      ],
      "execution_count": 7,
      "outputs": []
    },
    {
      "cell_type": "markdown",
      "metadata": {
        "id": "YA-b9qzBNQCo"
      },
      "source": [
        "## SGDClassifier"
      ]
    },
    {
      "cell_type": "code",
      "metadata": {
        "colab": {
          "base_uri": "https://localhost:8080/"
        },
        "id": "H28iyohdRqou",
        "outputId": "c03d75be-a17b-48fb-c06d-9beb41170e94"
      },
      "source": [
        "from sklearn.linear_model import SGDClassifier\n",
        "sgd_cls = SGDClassifier(random_state=42)\n",
        "sgd_cls.fit(X_train, y_train_5)"
      ],
      "execution_count": 8,
      "outputs": [
        {
          "output_type": "execute_result",
          "data": {
            "text/plain": [
              "SGDClassifier(alpha=0.0001, average=False, class_weight=None,\n",
              "              early_stopping=False, epsilon=0.1, eta0=0.0, fit_intercept=True,\n",
              "              l1_ratio=0.15, learning_rate='optimal', loss='hinge',\n",
              "              max_iter=1000, n_iter_no_change=5, n_jobs=None, penalty='l2',\n",
              "              power_t=0.5, random_state=42, shuffle=True, tol=0.001,\n",
              "              validation_fraction=0.1, verbose=0, warm_start=False)"
            ]
          },
          "metadata": {},
          "execution_count": 8
        }
      ]
    },
    {
      "cell_type": "code",
      "metadata": {
        "colab": {
          "base_uri": "https://localhost:8080/"
        },
        "id": "8ayBfhc2YNCj",
        "outputId": "8b0a3d3a-d7f5-4b06-b874-a0e96e27a7b6"
      },
      "source": [
        "y_predict_01 = sgd_cls.predict([X_train[0]])\n",
        "y_predict_02 = sgd_cls.predict([X_train[10]])\n",
        "print(y_predict_01, y_predict_02)"
      ],
      "execution_count": 9,
      "outputs": [
        {
          "output_type": "stream",
          "name": "stdout",
          "text": [
            "[ True] [False]\n"
          ]
        }
      ]
    },
    {
      "cell_type": "code",
      "metadata": {
        "id": "HaC3nGPoaj18"
      },
      "source": [
        "from sklearn.model_selection import cross_val_score"
      ],
      "execution_count": 10,
      "outputs": []
    },
    {
      "cell_type": "code",
      "metadata": {
        "colab": {
          "base_uri": "https://localhost:8080/"
        },
        "id": "DD_HOIngbFqM",
        "outputId": "bdb8eb03-4bc8-4eb7-b085-28902794051c"
      },
      "source": [
        "cross_val_score(sgd_cls, X_train, y_train_5, cv=3, scoring='accuracy')"
      ],
      "execution_count": 11,
      "outputs": [
        {
          "output_type": "execute_result",
          "data": {
            "text/plain": [
              "array([0.95035, 0.96035, 0.9604 ])"
            ]
          },
          "metadata": {},
          "execution_count": 11
        }
      ]
    },
    {
      "cell_type": "markdown",
      "metadata": {
        "id": "_sU8fMNrJjMN"
      },
      "source": [
        "This is simply because only about 10% of the images are 5s, so if you always guess that an image is not a 5, you will be right about 90% of the time."
      ]
    },
    {
      "cell_type": "code",
      "metadata": {
        "id": "5ZZ2FUboKpLs"
      },
      "source": [
        "from sklearn.model_selection import cross_val_predict\n",
        "y_train_pred = cross_val_predict(sgd_cls, X_train, y_train_5, cv=3)"
      ],
      "execution_count": 12,
      "outputs": []
    },
    {
      "cell_type": "code",
      "metadata": {
        "colab": {
          "base_uri": "https://localhost:8080/"
        },
        "id": "NIpWy0_aJlaQ",
        "outputId": "da098e6c-2fd2-4ecf-d805-3727e36db44c"
      },
      "source": [
        "from sklearn.metrics import confusion_matrix\n",
        "confusion_matrix(y_train_5, y_train_pred)"
      ],
      "execution_count": 13,
      "outputs": [
        {
          "output_type": "execute_result",
          "data": {
            "text/plain": [
              "array([[53892,   687],\n",
              "       [ 1891,  3530]])"
            ]
          },
          "metadata": {},
          "execution_count": 13
        }
      ]
    },
    {
      "cell_type": "code",
      "metadata": {
        "colab": {
          "base_uri": "https://localhost:8080/"
        },
        "id": "-JhwOtcILbHR",
        "outputId": "0a9426a5-a16d-42ce-8932-9ad7d450979c"
      },
      "source": [
        "from sklearn.metrics import precision_score, recall_score\n",
        "precision_score(y_train_5, y_train_pred), recall_score(y_train_5, y_train_pred)"
      ],
      "execution_count": 14,
      "outputs": [
        {
          "output_type": "execute_result",
          "data": {
            "text/plain": [
              "(0.8370879772350012, 0.6511713705958311)"
            ]
          },
          "metadata": {},
          "execution_count": 14
        }
      ]
    },
    {
      "cell_type": "markdown",
      "metadata": {
        "id": "0iKQ7jGTNad9"
      },
      "source": [
        "## RandomForestClassifier"
      ]
    },
    {
      "cell_type": "code",
      "metadata": {
        "id": "kEJz7uXdL3QB"
      },
      "source": [
        "from sklearn.ensemble import RandomForestClassifier\n",
        "\n",
        "forest_clf = RandomForestClassifier(random_state=42)\n",
        "y_probas_forest = cross_val_predict(forest_clf, X_train, y_train_5, cv=3,\n",
        "method=\"predict_proba\")"
      ],
      "execution_count": 15,
      "outputs": []
    },
    {
      "cell_type": "code",
      "metadata": {
        "colab": {
          "base_uri": "https://localhost:8080/"
        },
        "id": "2ZTsLcQvMeN5",
        "outputId": "5cc3c48f-dce9-4834-c6b2-a114c4759734"
      },
      "source": [
        "y_pro_forest = tf.round(y_probas_forest[:,1])\n",
        "y_pro_forest"
      ],
      "execution_count": 16,
      "outputs": [
        {
          "output_type": "execute_result",
          "data": {
            "text/plain": [
              "<tf.Tensor: shape=(60000,), dtype=float64, numpy=array([1., 0., 0., ..., 1., 0., 0.])>"
            ]
          },
          "metadata": {},
          "execution_count": 16
        }
      ]
    },
    {
      "cell_type": "code",
      "metadata": {
        "colab": {
          "base_uri": "https://localhost:8080/"
        },
        "id": "u-v1FSaKMHcr",
        "outputId": "c23591e2-e14c-4274-dad6-b85d7ce8f3f0"
      },
      "source": [
        "print(confusion_matrix(y_train_5, y_pro_forest))\n",
        "print(precision_score(y_train_5, y_pro_forest), recall_score(y_train_5, y_pro_forest))"
      ],
      "execution_count": 17,
      "outputs": [
        {
          "output_type": "stream",
          "name": "stdout",
          "text": [
            "[[54534    45]\n",
            " [  725  4696]]\n",
            "0.9905083315756169 0.8662608374838591\n"
          ]
        }
      ]
    },
    {
      "cell_type": "code",
      "metadata": {
        "colab": {
          "base_uri": "https://localhost:8080/"
        },
        "id": "jNWNpMKpNI_q",
        "outputId": "4ef2c5df-243a-4646-d98e-09a9c401cb61"
      },
      "source": [
        "forest_clf.fit(X_train, y_train_5)"
      ],
      "execution_count": 18,
      "outputs": [
        {
          "output_type": "execute_result",
          "data": {
            "text/plain": [
              "RandomForestClassifier(bootstrap=True, ccp_alpha=0.0, class_weight=None,\n",
              "                       criterion='gini', max_depth=None, max_features='auto',\n",
              "                       max_leaf_nodes=None, max_samples=None,\n",
              "                       min_impurity_decrease=0.0, min_impurity_split=None,\n",
              "                       min_samples_leaf=1, min_samples_split=2,\n",
              "                       min_weight_fraction_leaf=0.0, n_estimators=100,\n",
              "                       n_jobs=None, oob_score=False, random_state=42, verbose=0,\n",
              "                       warm_start=False)"
            ]
          },
          "metadata": {},
          "execution_count": 18
        }
      ]
    },
    {
      "cell_type": "code",
      "metadata": {
        "id": "nSu0ylLuOW-J"
      },
      "source": [
        "forest_test_pre = forest_clf.predict(X_test)"
      ],
      "execution_count": 19,
      "outputs": []
    },
    {
      "cell_type": "code",
      "metadata": {
        "colab": {
          "base_uri": "https://localhost:8080/"
        },
        "id": "aYb1VZeoOk3h",
        "outputId": "b928f24e-affd-448a-d788-d01ad1f48102"
      },
      "source": [
        "print(confusion_matrix(y_test_5, forest_test_pre))\n",
        "print(precision_score(y_test_5, forest_test_pre), recall_score(y_test_5, forest_test_pre))"
      ],
      "execution_count": 20,
      "outputs": [
        {
          "output_type": "stream",
          "name": "stdout",
          "text": [
            "[[9103    5]\n",
            " [ 118  774]]\n",
            "0.993581514762516 0.8677130044843049\n"
          ]
        }
      ]
    },
    {
      "cell_type": "markdown",
      "metadata": {
        "id": "dpuQLACEll6W"
      },
      "source": [
        "## Multiclass Classification"
      ]
    },
    {
      "cell_type": "code",
      "metadata": {
        "id": "FWOkMxb1mlZM",
        "outputId": "eb7e3da5-f972-44c1-e2e8-aa68b6824826",
        "colab": {
          "base_uri": "https://localhost:8080/"
        }
      },
      "source": [
        "X_train.max(), X_train.min()"
      ],
      "execution_count": 25,
      "outputs": [
        {
          "output_type": "execute_result",
          "data": {
            "text/plain": [
              "(255.0, 0.0)"
            ]
          },
          "metadata": {},
          "execution_count": 25
        }
      ]
    },
    {
      "cell_type": "code",
      "metadata": {
        "id": "uQ_lal5fmuL7",
        "outputId": "764d1fd9-f150-42e7-99ce-a1564b166c54",
        "colab": {
          "base_uri": "https://localhost:8080/"
        }
      },
      "source": [
        "x_train_svc = X_train/255.0\n",
        "x_test_svc = X_test/255.0\n",
        "x_train_svc.max(), x_test_svc.max()"
      ],
      "execution_count": 26,
      "outputs": [
        {
          "output_type": "execute_result",
          "data": {
            "text/plain": [
              "(1.0, 1.0)"
            ]
          },
          "metadata": {},
          "execution_count": 26
        }
      ]
    },
    {
      "cell_type": "markdown",
      "metadata": {
        "id": "wyN-se3YsRte"
      },
      "source": [
        "## SVMClassifier"
      ]
    },
    {
      "cell_type": "code",
      "metadata": {
        "id": "dKahTT9iltPt",
        "outputId": "0d3b1b7a-baff-4f44-f4ad-e926cad9ac65",
        "colab": {
          "base_uri": "https://localhost:8080/"
        }
      },
      "source": [
        "from sklearn.svm import SVC\n",
        "svc_model = SVC()\n",
        "svc_model.fit(x_train_svc, y_train)"
      ],
      "execution_count": 27,
      "outputs": [
        {
          "output_type": "execute_result",
          "data": {
            "text/plain": [
              "SVC(C=1.0, break_ties=False, cache_size=200, class_weight=None, coef0=0.0,\n",
              "    decision_function_shape='ovr', degree=3, gamma='scale', kernel='rbf',\n",
              "    max_iter=-1, probability=False, random_state=None, shrinking=True,\n",
              "    tol=0.001, verbose=False)"
            ]
          },
          "metadata": {},
          "execution_count": 27
        }
      ]
    },
    {
      "cell_type": "code",
      "metadata": {
        "id": "u7Hy66Opp6yB",
        "outputId": "a46caa34-2afa-47df-c280-70a13cb29a29",
        "colab": {
          "base_uri": "https://localhost:8080/"
        }
      },
      "source": [
        "print(svc_model.predict([x_train_svc[10]]))\n",
        "print(y_train[10])\n",
        "des_f = svc_model.decision_function([x_train_svc[10]])\n",
        "print(des_f)\n",
        "print(np.argmax(des_f))"
      ],
      "execution_count": 42,
      "outputs": [
        {
          "output_type": "stream",
          "name": "stdout",
          "text": [
            "[3]\n",
            "3\n",
            "[[ 2.73719174  6.20651629  3.81372559  9.32009109  0.69223349  6.26207869\n",
            "  -0.31019599  1.69984884  8.29382546  6.23989726]]\n",
            "3\n"
          ]
        }
      ]
    },
    {
      "cell_type": "code",
      "metadata": {
        "id": "pCPnbUg-se2v",
        "outputId": "e3626f72-156b-4d5f-ddd4-42d08ac1b501",
        "colab": {
          "base_uri": "https://localhost:8080/"
        }
      },
      "source": [
        "from sklearn.model_selection import cross_val_score\n",
        "cross_val_score(svc_model, x_train_svc, y_train, cv=3, scoring=\"accuracy\")"
      ],
      "execution_count": 46,
      "outputs": [
        {
          "output_type": "execute_result",
          "data": {
            "text/plain": [
              "array([0.977 , 0.9738, 0.9739])"
            ]
          },
          "metadata": {},
          "execution_count": 46
        }
      ]
    },
    {
      "cell_type": "code",
      "metadata": {
        "id": "mqAbisouwdGR"
      },
      "source": [
        "from sklearn.model_selection import cross_val_predict\n",
        "y_train_pred = cross_val_predict(svc_model, x_train_svc, y_train, cv=3)\n",
        "conf_mx = confusion_matrix(y_train, y_train_pred)\n"
      ],
      "execution_count": 47,
      "outputs": []
    },
    {
      "cell_type": "code",
      "metadata": {
        "id": "nOPBWBwxw348",
        "outputId": "45cdc27c-045b-41e6-a238-d336b5ce9219",
        "colab": {
          "base_uri": "https://localhost:8080/",
          "height": 275
        }
      },
      "source": [
        "plt.matshow(conf_mx, cmap=plt.cm.gray)\n",
        "plt.show()"
      ],
      "execution_count": 48,
      "outputs": [
        {
          "output_type": "display_data",
          "data": {
            "image/png": "[encoded data removed]",
            "text/plain": [
              "<Figure size 288x288 with 1 Axes>"
            ]
          },
          "metadata": {
            "needs_background": "light"
          }
        }
      ]
    }
  ]
}
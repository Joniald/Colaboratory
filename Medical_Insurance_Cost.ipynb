{
  "nbformat": 4,
  "nbformat_minor": 0,
  "metadata": {
    "colab": {
      "name": "Medical Insurance Cost.ipynb",
      "provenance": [],
      "authorship_tag": "ABX9TyP9g7AGXY2HjWFzZBXATq94",
      "include_colab_link": true
    },
    "kernelspec": {
      "name": "python3",
      "display_name": "Python 3"
    },
    "language_info": {
      "name": "python"
    }
  },
  "cells": [
    {
      "cell_type": "markdown",
      "metadata": {
        "id": "view-in-github",
        "colab_type": "text"
      },
      "source": [
        "<a href=\"https://colab.research.google.com/github/Joniald/Colaboratory/blob/main/Medical_Insurance_Cost.ipynb\" target=\"_parent\"><img src=\"https://colab.research.google.com/assets/colab-badge.svg\" alt=\"Open In Colab\"/></a>"
      ]
    },
    {
      "cell_type": "code",
      "metadata": {
        "id": "tFvlZlFba5cl"
      },
      "source": [
        "import pandas as pd\n",
        "import matplotlib.pyplot as plt\n",
        "import numpy as np"
      ],
      "execution_count": 68,
      "outputs": []
    },
    {
      "cell_type": "markdown",
      "metadata": {
        "id": "_OGXTT2whgQW"
      },
      "source": [
        "# Medical Cost Personal Dataset\n",
        "\n",
        "## The following data obtained from Kaggle, explain the cost of a small sample of USA population Medical Insurance Cost based on some attributes depicted on \"Content\"."
      ]
    },
    {
      "cell_type": "code",
      "metadata": {
        "id": "hqMDsauacggk"
      },
      "source": [
        "data = pd.read_csv(\"https://gist.githubusercontent.com/meperezcuello/82a9f1c1c473d6585e750ad2e3c05a41/raw/d42d226d0dd64e7f5395a0eec1b9190a10edbc03/Medical_Cost.csv\")"
      ],
      "execution_count": 69,
      "outputs": []
    },
    {
      "cell_type": "code",
      "metadata": {
        "colab": {
          "base_uri": "https://localhost:8080/",
          "height": 204
        },
        "id": "7M81gQn8cpNm",
        "outputId": "5c59382c-4d13-4f3b-ab17-588ddaeb605c"
      },
      "source": [
        "data.head()"
      ],
      "execution_count": 70,
      "outputs": [
        {
          "output_type": "execute_result",
          "data": {
            "text/html": [
              "<div>\n",
              "<style scoped>\n",
              "    .dataframe tbody tr th:only-of-type {\n",
              "        vertical-align: middle;\n",
              "    }\n",
              "\n",
              "    .dataframe tbody tr th {\n",
              "        vertical-align: top;\n",
              "    }\n",
              "\n",
              "    .dataframe thead th {\n",
              "        text-align: right;\n",
              "    }\n",
              "</style>\n",
              "<table border=\"1\" class=\"dataframe\">\n",
              "  <thead>\n",
              "    <tr style=\"text-align: right;\">\n",
              "      <th></th>\n",
              "      <th>age</th>\n",
              "      <th>sex</th>\n",
              "      <th>bmi</th>\n",
              "      <th>children</th>\n",
              "      <th>smoker</th>\n",
              "      <th>region</th>\n",
              "      <th>charges</th>\n",
              "    </tr>\n",
              "  </thead>\n",
              "  <tbody>\n",
              "    <tr>\n",
              "      <th>0</th>\n",
              "      <td>19</td>\n",
              "      <td>female</td>\n",
              "      <td>27.900</td>\n",
              "      <td>0</td>\n",
              "      <td>yes</td>\n",
              "      <td>southwest</td>\n",
              "      <td>16884.92400</td>\n",
              "    </tr>\n",
              "    <tr>\n",
              "      <th>1</th>\n",
              "      <td>18</td>\n",
              "      <td>male</td>\n",
              "      <td>33.770</td>\n",
              "      <td>1</td>\n",
              "      <td>no</td>\n",
              "      <td>southeast</td>\n",
              "      <td>1725.55230</td>\n",
              "    </tr>\n",
              "    <tr>\n",
              "      <th>2</th>\n",
              "      <td>28</td>\n",
              "      <td>male</td>\n",
              "      <td>33.000</td>\n",
              "      <td>3</td>\n",
              "      <td>no</td>\n",
              "      <td>southeast</td>\n",
              "      <td>4449.46200</td>\n",
              "    </tr>\n",
              "    <tr>\n",
              "      <th>3</th>\n",
              "      <td>33</td>\n",
              "      <td>male</td>\n",
              "      <td>22.705</td>\n",
              "      <td>0</td>\n",
              "      <td>no</td>\n",
              "      <td>northwest</td>\n",
              "      <td>21984.47061</td>\n",
              "    </tr>\n",
              "    <tr>\n",
              "      <th>4</th>\n",
              "      <td>32</td>\n",
              "      <td>male</td>\n",
              "      <td>28.880</td>\n",
              "      <td>0</td>\n",
              "      <td>no</td>\n",
              "      <td>northwest</td>\n",
              "      <td>3866.85520</td>\n",
              "    </tr>\n",
              "  </tbody>\n",
              "</table>\n",
              "</div>"
            ],
            "text/plain": [
              "   age     sex     bmi  children smoker     region      charges\n",
              "0   19  female  27.900         0    yes  southwest  16884.92400\n",
              "1   18    male  33.770         1     no  southeast   1725.55230\n",
              "2   28    male  33.000         3     no  southeast   4449.46200\n",
              "3   33    male  22.705         0     no  northwest  21984.47061\n",
              "4   32    male  28.880         0     no  northwest   3866.85520"
            ]
          },
          "metadata": {},
          "execution_count": 70
        }
      ]
    },
    {
      "cell_type": "code",
      "metadata": {
        "colab": {
          "base_uri": "https://localhost:8080/",
          "height": 297
        },
        "id": "XkBApzujgywq",
        "outputId": "05207f23-eef5-4866-db9d-581a53515d13"
      },
      "source": [
        "data.describe()"
      ],
      "execution_count": 71,
      "outputs": [
        {
          "output_type": "execute_result",
          "data": {
            "text/html": [
              "<div>\n",
              "<style scoped>\n",
              "    .dataframe tbody tr th:only-of-type {\n",
              "        vertical-align: middle;\n",
              "    }\n",
              "\n",
              "    .dataframe tbody tr th {\n",
              "        vertical-align: top;\n",
              "    }\n",
              "\n",
              "    .dataframe thead th {\n",
              "        text-align: right;\n",
              "    }\n",
              "</style>\n",
              "<table border=\"1\" class=\"dataframe\">\n",
              "  <thead>\n",
              "    <tr style=\"text-align: right;\">\n",
              "      <th></th>\n",
              "      <th>age</th>\n",
              "      <th>bmi</th>\n",
              "      <th>children</th>\n",
              "      <th>charges</th>\n",
              "    </tr>\n",
              "  </thead>\n",
              "  <tbody>\n",
              "    <tr>\n",
              "      <th>count</th>\n",
              "      <td>1338.000000</td>\n",
              "      <td>1338.000000</td>\n",
              "      <td>1338.000000</td>\n",
              "      <td>1338.000000</td>\n",
              "    </tr>\n",
              "    <tr>\n",
              "      <th>mean</th>\n",
              "      <td>39.207025</td>\n",
              "      <td>30.663397</td>\n",
              "      <td>1.094918</td>\n",
              "      <td>13270.422265</td>\n",
              "    </tr>\n",
              "    <tr>\n",
              "      <th>std</th>\n",
              "      <td>14.049960</td>\n",
              "      <td>6.098187</td>\n",
              "      <td>1.205493</td>\n",
              "      <td>12110.011237</td>\n",
              "    </tr>\n",
              "    <tr>\n",
              "      <th>min</th>\n",
              "      <td>18.000000</td>\n",
              "      <td>15.960000</td>\n",
              "      <td>0.000000</td>\n",
              "      <td>1121.873900</td>\n",
              "    </tr>\n",
              "    <tr>\n",
              "      <th>25%</th>\n",
              "      <td>27.000000</td>\n",
              "      <td>26.296250</td>\n",
              "      <td>0.000000</td>\n",
              "      <td>4740.287150</td>\n",
              "    </tr>\n",
              "    <tr>\n",
              "      <th>50%</th>\n",
              "      <td>39.000000</td>\n",
              "      <td>30.400000</td>\n",
              "      <td>1.000000</td>\n",
              "      <td>9382.033000</td>\n",
              "    </tr>\n",
              "    <tr>\n",
              "      <th>75%</th>\n",
              "      <td>51.000000</td>\n",
              "      <td>34.693750</td>\n",
              "      <td>2.000000</td>\n",
              "      <td>16639.912515</td>\n",
              "    </tr>\n",
              "    <tr>\n",
              "      <th>max</th>\n",
              "      <td>64.000000</td>\n",
              "      <td>53.130000</td>\n",
              "      <td>5.000000</td>\n",
              "      <td>63770.428010</td>\n",
              "    </tr>\n",
              "  </tbody>\n",
              "</table>\n",
              "</div>"
            ],
            "text/plain": [
              "               age          bmi     children       charges\n",
              "count  1338.000000  1338.000000  1338.000000   1338.000000\n",
              "mean     39.207025    30.663397     1.094918  13270.422265\n",
              "std      14.049960     6.098187     1.205493  12110.011237\n",
              "min      18.000000    15.960000     0.000000   1121.873900\n",
              "25%      27.000000    26.296250     0.000000   4740.287150\n",
              "50%      39.000000    30.400000     1.000000   9382.033000\n",
              "75%      51.000000    34.693750     2.000000  16639.912515\n",
              "max      64.000000    53.130000     5.000000  63770.428010"
            ]
          },
          "metadata": {},
          "execution_count": 71
        }
      ]
    },
    {
      "cell_type": "markdown",
      "metadata": {
        "id": "OyV6G3nwh_u8"
      },
      "source": [
        "## Get inside"
      ]
    },
    {
      "cell_type": "code",
      "metadata": {
        "colab": {
          "base_uri": "https://localhost:8080/"
        },
        "id": "GkxqZ_qzeU3W",
        "outputId": "a85e60f9-42c3-460e-8442-c1a8b076e246"
      },
      "source": [
        "data.isna().sum()\n",
        "# So...we don't need to clean our data"
      ],
      "execution_count": 72,
      "outputs": [
        {
          "output_type": "execute_result",
          "data": {
            "text/plain": [
              "age         0\n",
              "sex         0\n",
              "bmi         0\n",
              "children    0\n",
              "smoker      0\n",
              "region      0\n",
              "charges     0\n",
              "dtype: int64"
            ]
          },
          "metadata": {},
          "execution_count": 72
        }
      ]
    },
    {
      "cell_type": "code",
      "metadata": {
        "colab": {
          "base_uri": "https://localhost:8080/",
          "height": 334
        },
        "id": "UY6P8Lbtc8o0",
        "outputId": "2ce2fa70-a836-4886-a543-b6dd837b8a49"
      },
      "source": [
        "print(data.sex.value_counts())\n",
        "data.sex.hist(bins=50)\n",
        "# So....we don't need to be careful by Stratified our test group of data regarding the sex"
      ],
      "execution_count": 73,
      "outputs": [
        {
          "output_type": "stream",
          "name": "stdout",
          "text": [
            "male      676\n",
            "female    662\n",
            "Name: sex, dtype: int64\n"
          ]
        },
        {
          "output_type": "execute_result",
          "data": {
            "text/plain": [
              "<matplotlib.axes._subplots.AxesSubplot at 0x7fa5ada7b410>"
            ]
          },
          "metadata": {},
          "execution_count": 73
        },
        {
          "output_type": "display_data",
          "data": {
            "image/png": "[encoded data removed]",
            "text/plain": [
              "<Figure size 432x288 with 1 Axes>"
            ]
          },
          "metadata": {
            "needs_background": "light"
          }
        }
      ]
    },
    {
      "cell_type": "code",
      "metadata": {
        "colab": {
          "base_uri": "https://localhost:8080/",
          "height": 333
        },
        "id": "jEayVWo0dkQS",
        "outputId": "d2d23e55-ea64-4060-f766-577ed0dd69e4"
      },
      "source": [
        "print(data.smoker.value_counts())\n",
        "data.smoker.hist(bins=50)\n",
        "# So....we  need to be careful by Stratified our test group of data regarding the smokers"
      ],
      "execution_count": 74,
      "outputs": [
        {
          "output_type": "stream",
          "name": "stdout",
          "text": [
            "no     1064\n",
            "yes     274\n",
            "Name: smoker, dtype: int64\n"
          ]
        },
        {
          "output_type": "execute_result",
          "data": {
            "text/plain": [
              "<matplotlib.axes._subplots.AxesSubplot at 0x7fa5ad527fd0>"
            ]
          },
          "metadata": {},
          "execution_count": 74
        },
        {
          "output_type": "display_data",
          "data": {
            "image/png": "[encoded data removed]",
            "text/plain": [
              "<Figure size 432x288 with 1 Axes>"
            ]
          },
          "metadata": {
            "needs_background": "light"
          }
        }
      ]
    },
    {
      "cell_type": "code",
      "metadata": {
        "colab": {
          "base_uri": "https://localhost:8080/",
          "height": 282
        },
        "id": "AkSVcMaGVp8u",
        "outputId": "c4cee36d-e70d-412f-f21b-ccb03fa1140e"
      },
      "source": [
        "plt.subplot(1,2,1)\n",
        "data.loc[data.smoker==\"no\"].charges.hist(bins=50)\n",
        "plt.subplot(1,2,2)\n",
        "data.loc[data.smoker == \"yes\"].charges.hist(bins=50)\n",
        "# So...this is a very important feature and we need to be sure that it will be representive in the test group, in the same proportion as in total."
      ],
      "execution_count": 75,
      "outputs": [
        {
          "output_type": "execute_result",
          "data": {
            "text/plain": [
              "<matplotlib.axes._subplots.AxesSubplot at 0x7fa5ad310350>"
            ]
          },
          "metadata": {},
          "execution_count": 75
        },
        {
          "output_type": "display_data",
          "data": {
            "image/png": "[encoded data removed]",
            "text/plain": [
              "<Figure size 432x288 with 2 Axes>"
            ]
          },
          "metadata": {
            "needs_background": "light"
          }
        }
      ]
    },
    {
      "cell_type": "code",
      "metadata": {
        "colab": {
          "base_uri": "https://localhost:8080/",
          "height": 367
        },
        "id": "oBLrBZVBd6Wj",
        "outputId": "f0c4f7e4-34e8-46a3-b9cc-e03111db4b0f"
      },
      "source": [
        "print(data.region.value_counts())\n",
        "data.region.hist(bins=50)\n",
        "# So....we don't need to be careful by Stratified our test group of data regarding the region"
      ],
      "execution_count": 76,
      "outputs": [
        {
          "output_type": "stream",
          "name": "stdout",
          "text": [
            "southeast    364\n",
            "southwest    325\n",
            "northwest    325\n",
            "northeast    324\n",
            "Name: region, dtype: int64\n"
          ]
        },
        {
          "output_type": "execute_result",
          "data": {
            "text/plain": [
              "<matplotlib.axes._subplots.AxesSubplot at 0x7fa5ad210d90>"
            ]
          },
          "metadata": {},
          "execution_count": 76
        },
        {
          "output_type": "display_data",
          "data": {
            "image/png": "[encoded data removed]",
            "text/plain": [
              "<Figure size 432x288 with 1 Axes>"
            ]
          },
          "metadata": {
            "needs_background": "light"
          }
        }
      ]
    },
    {
      "cell_type": "code",
      "metadata": {
        "colab": {
          "base_uri": "https://localhost:8080/",
          "height": 387
        },
        "id": "itZdO3wpfuuj",
        "outputId": "33618c65-dc22-4f2a-e650-eddb92caebc0"
      },
      "source": [
        "data.children.hist(bins=50)\n",
        "print(data.children.value_counts())\n",
        "# So....we need to be careful by Stratified our test group of data, regarding the number of childrens"
      ],
      "execution_count": 77,
      "outputs": [
        {
          "output_type": "stream",
          "name": "stdout",
          "text": [
            "0    574\n",
            "1    324\n",
            "2    240\n",
            "3    157\n",
            "4     25\n",
            "5     18\n",
            "Name: children, dtype: int64\n"
          ]
        },
        {
          "output_type": "display_data",
          "data": {
            "image/png": "[encoded data removed]",
            "text/plain": [
              "<Figure size 432x288 with 1 Axes>"
            ]
          },
          "metadata": {
            "needs_background": "light"
          }
        }
      ]
    },
    {
      "cell_type": "code",
      "metadata": {
        "colab": {
          "base_uri": "https://localhost:8080/",
          "height": 502
        },
        "id": "B9Lsre3gX2Ek",
        "outputId": "cf0aa17f-abea-426e-b35d-a82b0b420648"
      },
      "source": [
        "plt.figure(figsize=(12,8))\n",
        "plt.subplot(2,3,1)\n",
        "data.loc[data.children==0].charges.hist(bins=50, legend=\"Childrens 0\")\n",
        "plt.subplot(2,3,2)\n",
        "data.loc[data.children==1].charges.hist(bins=50)\n",
        "plt.subplot(2,3,3)\n",
        "data.loc[data.children==2].charges.hist(bins=50)\n",
        "plt.subplot(2,3,4)\n",
        "data.loc[data.children==3].charges.hist(bins=50)\n",
        "plt.subplot(2,3,5)\n",
        "data.loc[data.children==4].charges.hist(bins=50)\n",
        "plt.subplot(2,3,6)\n",
        "data.loc[data.children==5].charges.hist(bins=50)\n",
        "# It seems that the charge per nr of childrens has similar distribution. This meens that this feature is not so important regarding a proper split of data."
      ],
      "execution_count": 78,
      "outputs": [
        {
          "output_type": "execute_result",
          "data": {
            "text/plain": [
              "<matplotlib.axes._subplots.AxesSubplot at 0x7fa5ae7af750>"
            ]
          },
          "metadata": {},
          "execution_count": 78
        },
        {
          "output_type": "display_data",
          "data": {
            "image/png": "[encoded data removed]",
            "text/plain": [
              "<Figure size 864x576 with 6 Axes>"
            ]
          },
          "metadata": {
            "needs_background": "light"
          }
        }
      ]
    },
    {
      "cell_type": "code",
      "metadata": {
        "colab": {
          "base_uri": "https://localhost:8080/",
          "height": 333
        },
        "id": "8i-1QXiCivYw",
        "outputId": "33df0a55-5ae2-4684-bb69-749be96b36db"
      },
      "source": [
        "print(data.corr().charges[:-1])\n",
        "# A relatively small correlation between the target value and the age\n",
        "# We also dont have a correlation betwee the target value and the number of childrens.\n",
        "plt.scatter(data.age, data.charges)\n",
        "plt.show()"
      ],
      "execution_count": 79,
      "outputs": [
        {
          "output_type": "stream",
          "name": "stdout",
          "text": [
            "age         0.299008\n",
            "bmi         0.198341\n",
            "children    0.067998\n",
            "Name: charges, dtype: float64\n"
          ]
        },
        {
          "output_type": "display_data",
          "data": {
            "image/png": "[encoded data removed]",
            "text/plain": [
              "<Figure size 432x288 with 1 Axes>"
            ]
          },
          "metadata": {
            "needs_background": "light"
          }
        }
      ]
    },
    {
      "cell_type": "code",
      "metadata": {
        "colab": {
          "base_uri": "https://localhost:8080/"
        },
        "id": "EABjFL0djwnJ",
        "outputId": "da8cef24-e45c-43ca-c454-1e2177ec064a"
      },
      "source": [
        "# We do stratified sampling based on the smoking behavior\n",
        "from sklearn.model_selection import StratifiedShuffleSplit\n",
        "\n",
        "splitData = StratifiedShuffleSplit(n_splits=1, test_size=0.2, random_state=42)\n",
        "print(splitData.get_n_splits(data,data.smoker))\n",
        "\n",
        "for train_index, test_index in splitData.split(data, data.smoker):\n",
        "  train_set = data.loc[train_index]\n",
        "  test_set = data.loc[test_index]\n",
        "\n",
        "print(test_set.smoker.value_counts())\n",
        "print(train_set.smoker.value_counts())\n",
        "print(data.smoker.value_counts())"
      ],
      "execution_count": 80,
      "outputs": [
        {
          "output_type": "stream",
          "name": "stdout",
          "text": [
            "1\n",
            "no     213\n",
            "yes     55\n",
            "Name: smoker, dtype: int64\n",
            "no     851\n",
            "yes    219\n",
            "Name: smoker, dtype: int64\n",
            "no     1064\n",
            "yes     274\n",
            "Name: smoker, dtype: int64\n"
          ]
        }
      ]
    },
    {
      "cell_type": "code",
      "metadata": {
        "id": "GxYLltGejRmW"
      },
      "source": [
        "# Prepering data\n",
        "X_train = train_set.drop(columns=\"charges\")\n",
        "Y_train = train_set.charges\n",
        "X_test = test_set.drop(columns=\"charges\")\n",
        "Y_test = test_set.charges"
      ],
      "execution_count": 137,
      "outputs": []
    },
    {
      "cell_type": "code",
      "metadata": {
        "colab": {
          "base_uri": "https://localhost:8080/"
        },
        "id": "UCHg6c3EptI1",
        "outputId": "5b253dfc-b056-4d52-994a-c73fb3ad3ae4"
      },
      "source": [
        "X_train.head(), X_test.head()"
      ],
      "execution_count": 138,
      "outputs": [
        {
          "output_type": "execute_result",
          "data": {
            "text/plain": [
              "(      age     sex     bmi  children smoker     region\n",
              " 294    25    male  26.800         3     no  southwest\n",
              " 179    41  female  33.155         3     no  northeast\n",
              " 1335   18  female  36.850         0     no  southeast\n",
              " 634    51    male  39.700         1     no  southwest\n",
              " 67     40    male  26.315         1     no  northwest,\n",
              "       age     sex     bmi  children smoker     region\n",
              " 71     31    male  28.500         5     no  northeast\n",
              " 434    31    male  28.595         1     no  northwest\n",
              " 370    61  female  21.090         0     no  northwest\n",
              " 44     38    male  37.050         1     no  northeast\n",
              " 1039   19    male  27.265         2     no  northwest)"
            ]
          },
          "metadata": {},
          "execution_count": 138
        }
      ]
    },
    {
      "cell_type": "markdown",
      "metadata": {
        "id": "koygoMmFpyeg"
      },
      "source": [
        "## Handling Text and Categorical Attributes and Feature Scaling"
      ]
    },
    {
      "cell_type": "code",
      "metadata": {
        "colab": {
          "base_uri": "https://localhost:8080/",
          "height": 204
        },
        "id": "0Fs-QE46p8jg",
        "outputId": "d6110859-e6c9-4ed7-9f5e-51613701ef6f"
      },
      "source": [
        "# OneHotEncode for text Attributes\n",
        "X_train_set = pd.get_dummies(X_train)\n",
        "X_train_set.head()"
      ],
      "execution_count": 139,
      "outputs": [
        {
          "output_type": "execute_result",
          "data": {
            "text/html": [
              "<div>\n",
              "<style scoped>\n",
              "    .dataframe tbody tr th:only-of-type {\n",
              "        vertical-align: middle;\n",
              "    }\n",
              "\n",
              "    .dataframe tbody tr th {\n",
              "        vertical-align: top;\n",
              "    }\n",
              "\n",
              "    .dataframe thead th {\n",
              "        text-align: right;\n",
              "    }\n",
              "</style>\n",
              "<table border=\"1\" class=\"dataframe\">\n",
              "  <thead>\n",
              "    <tr style=\"text-align: right;\">\n",
              "      <th></th>\n",
              "      <th>age</th>\n",
              "      <th>bmi</th>\n",
              "      <th>children</th>\n",
              "      <th>sex_female</th>\n",
              "      <th>sex_male</th>\n",
              "      <th>smoker_no</th>\n",
              "      <th>smoker_yes</th>\n",
              "      <th>region_northeast</th>\n",
              "      <th>region_northwest</th>\n",
              "      <th>region_southeast</th>\n",
              "      <th>region_southwest</th>\n",
              "    </tr>\n",
              "  </thead>\n",
              "  <tbody>\n",
              "    <tr>\n",
              "      <th>294</th>\n",
              "      <td>25</td>\n",
              "      <td>26.800</td>\n",
              "      <td>3</td>\n",
              "      <td>0</td>\n",
              "      <td>1</td>\n",
              "      <td>1</td>\n",
              "      <td>0</td>\n",
              "      <td>0</td>\n",
              "      <td>0</td>\n",
              "      <td>0</td>\n",
              "      <td>1</td>\n",
              "    </tr>\n",
              "    <tr>\n",
              "      <th>179</th>\n",
              "      <td>41</td>\n",
              "      <td>33.155</td>\n",
              "      <td>3</td>\n",
              "      <td>1</td>\n",
              "      <td>0</td>\n",
              "      <td>1</td>\n",
              "      <td>0</td>\n",
              "      <td>1</td>\n",
              "      <td>0</td>\n",
              "      <td>0</td>\n",
              "      <td>0</td>\n",
              "    </tr>\n",
              "    <tr>\n",
              "      <th>1335</th>\n",
              "      <td>18</td>\n",
              "      <td>36.850</td>\n",
              "      <td>0</td>\n",
              "      <td>1</td>\n",
              "      <td>0</td>\n",
              "      <td>1</td>\n",
              "      <td>0</td>\n",
              "      <td>0</td>\n",
              "      <td>0</td>\n",
              "      <td>1</td>\n",
              "      <td>0</td>\n",
              "    </tr>\n",
              "    <tr>\n",
              "      <th>634</th>\n",
              "      <td>51</td>\n",
              "      <td>39.700</td>\n",
              "      <td>1</td>\n",
              "      <td>0</td>\n",
              "      <td>1</td>\n",
              "      <td>1</td>\n",
              "      <td>0</td>\n",
              "      <td>0</td>\n",
              "      <td>0</td>\n",
              "      <td>0</td>\n",
              "      <td>1</td>\n",
              "    </tr>\n",
              "    <tr>\n",
              "      <th>67</th>\n",
              "      <td>40</td>\n",
              "      <td>26.315</td>\n",
              "      <td>1</td>\n",
              "      <td>0</td>\n",
              "      <td>1</td>\n",
              "      <td>1</td>\n",
              "      <td>0</td>\n",
              "      <td>0</td>\n",
              "      <td>1</td>\n",
              "      <td>0</td>\n",
              "      <td>0</td>\n",
              "    </tr>\n",
              "  </tbody>\n",
              "</table>\n",
              "</div>"
            ],
            "text/plain": [
              "      age     bmi  ...  region_southeast  region_southwest\n",
              "294    25  26.800  ...                 0                 1\n",
              "179    41  33.155  ...                 0                 0\n",
              "1335   18  36.850  ...                 1                 0\n",
              "634    51  39.700  ...                 0                 1\n",
              "67     40  26.315  ...                 0                 0\n",
              "\n",
              "[5 rows x 11 columns]"
            ]
          },
          "metadata": {},
          "execution_count": 139
        }
      ]
    },
    {
      "cell_type": "code",
      "metadata": {
        "colab": {
          "base_uri": "https://localhost:8080/"
        },
        "id": "KFRVnLv-xCOT",
        "outputId": "2328ccec-dad4-4963-a13a-8d1c820d2992"
      },
      "source": [
        "# Normalization\n",
        "from sklearn.preprocessing import MinMaxScaler\n",
        "scaler = MinMaxScaler()\n",
        "X_train_set = scaler.fit_transform(X_train_set)\n",
        "X_train_set[0:4]"
      ],
      "execution_count": 140,
      "outputs": [
        {
          "output_type": "execute_result",
          "data": {
            "text/plain": [
              "array([[0.15217391, 0.29163304, 0.6       , 0.        , 1.        ,\n",
              "        1.        , 0.        , 0.        , 0.        , 0.        ,\n",
              "        1.        ],\n",
              "       [0.5       , 0.46260425, 0.6       , 1.        , 0.        ,\n",
              "        1.        , 0.        , 1.        , 0.        , 0.        ,\n",
              "        0.        ],\n",
              "       [0.        , 0.56201238, 0.        , 1.        , 0.        ,\n",
              "        1.        , 0.        , 0.        , 0.        , 1.        ,\n",
              "        0.        ],\n",
              "       [0.7173913 , 0.63868711, 0.2       , 0.        , 1.        ,\n",
              "        1.        , 0.        , 0.        , 0.        , 0.        ,\n",
              "        1.        ]])"
            ]
          },
          "metadata": {},
          "execution_count": 140
        }
      ]
    },
    {
      "cell_type": "code",
      "metadata": {
        "id": "NCUZOWVPxqJC"
      },
      "source": [
        "# For later, when we have to evaluate our models\n",
        "def oneHotNorm(X_test):\n",
        "  X_test_set = pd.get_dummies(X_test)\n",
        "  scalerTest = MinMaxScaler()\n",
        "  X_test_set = scalerTest.fit_transform(X_test_set)\n",
        "  return X_test_set "
      ],
      "execution_count": 141,
      "outputs": []
    },
    {
      "cell_type": "markdown",
      "metadata": {
        "id": "Q8P7DPMTynW7"
      },
      "source": [
        "## Select and Train a Model"
      ]
    },
    {
      "cell_type": "code",
      "metadata": {
        "colab": {
          "base_uri": "https://localhost:8080/"
        },
        "id": "AQqWUhRKyq2r",
        "outputId": "5254934f-7193-4c5a-c0c3-f365fc25b42b"
      },
      "source": [
        "print(X_train_set.shape)\n",
        "print(Y_train.shape) "
      ],
      "execution_count": 105,
      "outputs": [
        {
          "output_type": "stream",
          "name": "stdout",
          "text": [
            "(1070, 11)\n",
            "(1070,)\n"
          ]
        }
      ]
    },
    {
      "cell_type": "code",
      "metadata": {
        "id": "QdlZmMJS095U"
      },
      "source": [
        "import tensorflow as tf"
      ],
      "execution_count": 106,
      "outputs": []
    },
    {
      "cell_type": "code",
      "metadata": {
        "colab": {
          "base_uri": "https://localhost:8080/"
        },
        "id": "BLQcrb2rzGLn",
        "outputId": "7e91336d-1461-43aa-d29e-cd8d31380722"
      },
      "source": [
        "model_01 = tf.keras.Sequential([\n",
        "     tf.keras.layers.Dense(100, activation='relu'),\n",
        "     tf.keras.layers.Dense(70, activation='relu'),\n",
        "     tf.keras.layers.Dense(50, activation='relu'),\n",
        "     tf.keras.layers.Dense(30, activation='relu'),\n",
        "     tf.keras.layers.Dense(1)                          \n",
        "])\n",
        "\n",
        "model_01.compile(\n",
        "    loss = tf.keras.losses.mae,\n",
        "    optimizer = tf.keras.optimizers.Adam(learning_rate=0.001),\n",
        "    metrics = tf.keras.metrics.mae\n",
        ")\n",
        "\n",
        "history = model_01.fit(X_train_set, Y_train, epochs=300)"
      ],
      "execution_count": 128,
      "outputs": [
        {
          "output_type": "stream",
          "name": "stdout",
          "text": [
            "Epoch 1/300\n",
            "34/34 [==============================] - 0s 2ms/step - loss: 13280.9111 - mean_absolute_error: 13280.9111\n",
            "Epoch 2/300\n",
            "34/34 [==============================] - 0s 2ms/step - loss: 13184.3223 - mean_absolute_error: 13184.3223\n",
            "Epoch 3/300\n",
            "34/34 [==============================] - 0s 2ms/step - loss: 12085.5977 - mean_absolute_error: 12085.5977\n",
            "Epoch 4/300\n",
            "34/34 [==============================] - 0s 2ms/step - loss: 8691.3438 - mean_absolute_error: 8691.3438\n",
            "Epoch 5/300\n",
            "34/34 [==============================] - 0s 2ms/step - loss: 7757.7637 - mean_absolute_error: 7757.7637\n",
            "Epoch 6/300\n",
            "34/34 [==============================] - 0s 2ms/step - loss: 7418.8687 - mean_absolute_error: 7418.8687\n",
            "Epoch 7/300\n",
            "34/34 [==============================] - 0s 2ms/step - loss: 7017.4214 - mean_absolute_error: 7017.4214\n",
            "Epoch 8/300\n",
            "34/34 [==============================] - 0s 2ms/step - loss: 6488.2969 - mean_absolute_error: 6488.2969\n",
            "Epoch 9/300\n",
            "34/34 [==============================] - 0s 2ms/step - loss: 5769.9614 - mean_absolute_error: 5769.9614\n",
            "Epoch 10/300\n",
            "34/34 [==============================] - 0s 2ms/step - loss: 4855.6084 - mean_absolute_error: 4855.6084\n",
            "Epoch 11/300\n",
            "34/34 [==============================] - 0s 2ms/step - loss: 4212.3721 - mean_absolute_error: 4212.3721\n",
            "Epoch 12/300\n",
            "34/34 [==============================] - 0s 2ms/step - loss: 3747.6631 - mean_absolute_error: 3747.6631\n",
            "Epoch 13/300\n",
            "34/34 [==============================] - 0s 2ms/step - loss: 3485.3601 - mean_absolute_error: 3485.3601\n",
            "Epoch 14/300\n",
            "34/34 [==============================] - 0s 2ms/step - loss: 3383.6548 - mean_absolute_error: 3383.6548\n",
            "Epoch 15/300\n",
            "34/34 [==============================] - 0s 2ms/step - loss: 3330.8015 - mean_absolute_error: 3330.8015\n",
            "Epoch 16/300\n",
            "34/34 [==============================] - 0s 2ms/step - loss: 3276.6501 - mean_absolute_error: 3276.6501\n",
            "Epoch 17/300\n",
            "34/34 [==============================] - 0s 2ms/step - loss: 3266.2703 - mean_absolute_error: 3266.2703\n",
            "Epoch 18/300\n",
            "34/34 [==============================] - 0s 2ms/step - loss: 3205.0759 - mean_absolute_error: 3205.0759\n",
            "Epoch 19/300\n",
            "34/34 [==============================] - 0s 2ms/step - loss: 3213.5215 - mean_absolute_error: 3213.5215\n",
            "Epoch 20/300\n",
            "34/34 [==============================] - 0s 2ms/step - loss: 3179.3975 - mean_absolute_error: 3179.3975\n",
            "Epoch 21/300\n",
            "34/34 [==============================] - 0s 2ms/step - loss: 3172.9651 - mean_absolute_error: 3172.9651\n",
            "Epoch 22/300\n",
            "34/34 [==============================] - 0s 2ms/step - loss: 3174.1746 - mean_absolute_error: 3174.1746\n",
            "Epoch 23/300\n",
            "34/34 [==============================] - 0s 2ms/step - loss: 3161.9194 - mean_absolute_error: 3161.9194\n",
            "Epoch 24/300\n",
            "34/34 [==============================] - 0s 2ms/step - loss: 3158.4207 - mean_absolute_error: 3158.4207\n",
            "Epoch 25/300\n",
            "34/34 [==============================] - 0s 2ms/step - loss: 3144.9009 - mean_absolute_error: 3144.9009\n",
            "Epoch 26/300\n",
            "34/34 [==============================] - 0s 2ms/step - loss: 3142.8936 - mean_absolute_error: 3142.8936\n",
            "Epoch 27/300\n",
            "34/34 [==============================] - 0s 2ms/step - loss: 3140.1174 - mean_absolute_error: 3140.1174\n",
            "Epoch 28/300\n",
            "34/34 [==============================] - 0s 2ms/step - loss: 3130.5593 - mean_absolute_error: 3130.5593\n",
            "Epoch 29/300\n",
            "34/34 [==============================] - 0s 2ms/step - loss: 3122.2651 - mean_absolute_error: 3122.2651\n",
            "Epoch 30/300\n",
            "34/34 [==============================] - 0s 2ms/step - loss: 3143.5898 - mean_absolute_error: 3143.5898\n",
            "Epoch 31/300\n",
            "34/34 [==============================] - 0s 2ms/step - loss: 3134.6995 - mean_absolute_error: 3134.6995\n",
            "Epoch 32/300\n",
            "34/34 [==============================] - 0s 2ms/step - loss: 3134.8608 - mean_absolute_error: 3134.8608\n",
            "Epoch 33/300\n",
            "34/34 [==============================] - 0s 2ms/step - loss: 3115.5371 - mean_absolute_error: 3115.5371\n",
            "Epoch 34/300\n",
            "34/34 [==============================] - 0s 2ms/step - loss: 3101.4248 - mean_absolute_error: 3101.4248\n",
            "Epoch 35/300\n",
            "34/34 [==============================] - 0s 2ms/step - loss: 3094.3787 - mean_absolute_error: 3094.3787\n",
            "Epoch 36/300\n",
            "34/34 [==============================] - 0s 2ms/step - loss: 3100.2913 - mean_absolute_error: 3100.2913\n",
            "Epoch 37/300\n",
            "34/34 [==============================] - 0s 2ms/step - loss: 3090.1765 - mean_absolute_error: 3090.1765\n",
            "Epoch 38/300\n",
            "34/34 [==============================] - 0s 2ms/step - loss: 3073.2778 - mean_absolute_error: 3073.2778\n",
            "Epoch 39/300\n",
            "34/34 [==============================] - 0s 2ms/step - loss: 3072.6277 - mean_absolute_error: 3072.6277\n",
            "Epoch 40/300\n",
            "34/34 [==============================] - 0s 2ms/step - loss: 3061.0051 - mean_absolute_error: 3061.0051\n",
            "Epoch 41/300\n",
            "34/34 [==============================] - 0s 2ms/step - loss: 3053.1296 - mean_absolute_error: 3053.1296\n",
            "Epoch 42/300\n",
            "34/34 [==============================] - 0s 2ms/step - loss: 3047.0461 - mean_absolute_error: 3047.0461\n",
            "Epoch 43/300\n",
            "34/34 [==============================] - 0s 2ms/step - loss: 3034.1553 - mean_absolute_error: 3034.1553\n",
            "Epoch 44/300\n",
            "34/34 [==============================] - 0s 2ms/step - loss: 3039.3308 - mean_absolute_error: 3039.3308\n",
            "Epoch 45/300\n",
            "34/34 [==============================] - 0s 2ms/step - loss: 3016.3701 - mean_absolute_error: 3016.3701\n",
            "Epoch 46/300\n",
            "34/34 [==============================] - 0s 2ms/step - loss: 3011.8213 - mean_absolute_error: 3011.8213\n",
            "Epoch 47/300\n",
            "34/34 [==============================] - 0s 2ms/step - loss: 3003.1172 - mean_absolute_error: 3003.1172\n",
            "Epoch 48/300\n",
            "34/34 [==============================] - 0s 2ms/step - loss: 2993.7498 - mean_absolute_error: 2993.7498\n",
            "Epoch 49/300\n",
            "34/34 [==============================] - 0s 2ms/step - loss: 3001.8611 - mean_absolute_error: 3001.8611\n",
            "Epoch 50/300\n",
            "34/34 [==============================] - 0s 2ms/step - loss: 2990.3528 - mean_absolute_error: 2990.3528\n",
            "Epoch 51/300\n",
            "34/34 [==============================] - 0s 2ms/step - loss: 2972.3379 - mean_absolute_error: 2972.3379\n",
            "Epoch 52/300\n",
            "34/34 [==============================] - 0s 2ms/step - loss: 2965.2463 - mean_absolute_error: 2965.2463\n",
            "Epoch 53/300\n",
            "34/34 [==============================] - 0s 2ms/step - loss: 2955.4995 - mean_absolute_error: 2955.4995\n",
            "Epoch 54/300\n",
            "34/34 [==============================] - 0s 2ms/step - loss: 2953.7869 - mean_absolute_error: 2953.7869\n",
            "Epoch 55/300\n",
            "34/34 [==============================] - 0s 2ms/step - loss: 2957.1799 - mean_absolute_error: 2957.1799\n",
            "Epoch 56/300\n",
            "34/34 [==============================] - 0s 2ms/step - loss: 2922.5759 - mean_absolute_error: 2922.5759\n",
            "Epoch 57/300\n",
            "34/34 [==============================] - 0s 2ms/step - loss: 2921.6936 - mean_absolute_error: 2921.6936\n",
            "Epoch 58/300\n",
            "34/34 [==============================] - 0s 2ms/step - loss: 2897.7065 - mean_absolute_error: 2897.7065\n",
            "Epoch 59/300\n",
            "34/34 [==============================] - 0s 2ms/step - loss: 2884.7410 - mean_absolute_error: 2884.7410\n",
            "Epoch 60/300\n",
            "34/34 [==============================] - 0s 2ms/step - loss: 2883.9597 - mean_absolute_error: 2883.9597\n",
            "Epoch 61/300\n",
            "34/34 [==============================] - 0s 2ms/step - loss: 2864.6943 - mean_absolute_error: 2864.6943\n",
            "Epoch 62/300\n",
            "34/34 [==============================] - 0s 2ms/step - loss: 2845.9937 - mean_absolute_error: 2845.9937\n",
            "Epoch 63/300\n",
            "34/34 [==============================] - 0s 2ms/step - loss: 2848.2744 - mean_absolute_error: 2848.2744\n",
            "Epoch 64/300\n",
            "34/34 [==============================] - 0s 2ms/step - loss: 2825.9189 - mean_absolute_error: 2825.9189\n",
            "Epoch 65/300\n",
            "34/34 [==============================] - 0s 2ms/step - loss: 2819.6453 - mean_absolute_error: 2819.6453\n",
            "Epoch 66/300\n",
            "34/34 [==============================] - 0s 2ms/step - loss: 2795.4895 - mean_absolute_error: 2795.4895\n",
            "Epoch 67/300\n",
            "34/34 [==============================] - 0s 2ms/step - loss: 2788.5623 - mean_absolute_error: 2788.5623\n",
            "Epoch 68/300\n",
            "34/34 [==============================] - 0s 2ms/step - loss: 2780.3350 - mean_absolute_error: 2780.3350\n",
            "Epoch 69/300\n",
            "34/34 [==============================] - 0s 2ms/step - loss: 2755.1204 - mean_absolute_error: 2755.1204\n",
            "Epoch 70/300\n",
            "34/34 [==============================] - 0s 2ms/step - loss: 2755.7600 - mean_absolute_error: 2755.7600\n",
            "Epoch 71/300\n",
            "34/34 [==============================] - 0s 2ms/step - loss: 2730.5791 - mean_absolute_error: 2730.5791\n",
            "Epoch 72/300\n",
            "34/34 [==============================] - 0s 2ms/step - loss: 2719.1765 - mean_absolute_error: 2719.1765\n",
            "Epoch 73/300\n",
            "34/34 [==============================] - 0s 2ms/step - loss: 2701.5996 - mean_absolute_error: 2701.5996\n",
            "Epoch 74/300\n",
            "34/34 [==============================] - 0s 2ms/step - loss: 2688.1406 - mean_absolute_error: 2688.1406\n",
            "Epoch 75/300\n",
            "34/34 [==============================] - 0s 2ms/step - loss: 2667.6985 - mean_absolute_error: 2667.6985\n",
            "Epoch 76/300\n",
            "34/34 [==============================] - 0s 2ms/step - loss: 2647.2227 - mean_absolute_error: 2647.2227\n",
            "Epoch 77/300\n",
            "34/34 [==============================] - 0s 2ms/step - loss: 2650.4558 - mean_absolute_error: 2650.4558\n",
            "Epoch 78/300\n",
            "34/34 [==============================] - 0s 2ms/step - loss: 2628.1545 - mean_absolute_error: 2628.1545\n",
            "Epoch 79/300\n",
            "34/34 [==============================] - 0s 2ms/step - loss: 2608.3982 - mean_absolute_error: 2608.3982\n",
            "Epoch 80/300\n",
            "34/34 [==============================] - 0s 2ms/step - loss: 2580.8794 - mean_absolute_error: 2580.8794\n",
            "Epoch 81/300\n",
            "34/34 [==============================] - 0s 2ms/step - loss: 2561.7290 - mean_absolute_error: 2561.7290\n",
            "Epoch 82/300\n",
            "34/34 [==============================] - 0s 2ms/step - loss: 2549.3149 - mean_absolute_error: 2549.3149\n",
            "Epoch 83/300\n",
            "34/34 [==============================] - 0s 2ms/step - loss: 2527.9280 - mean_absolute_error: 2527.9280\n",
            "Epoch 84/300\n",
            "34/34 [==============================] - 0s 2ms/step - loss: 2512.7893 - mean_absolute_error: 2512.7893\n",
            "Epoch 85/300\n",
            "34/34 [==============================] - 0s 2ms/step - loss: 2501.7913 - mean_absolute_error: 2501.7913\n",
            "Epoch 86/300\n",
            "34/34 [==============================] - 0s 2ms/step - loss: 2469.7756 - mean_absolute_error: 2469.7756\n",
            "Epoch 87/300\n",
            "34/34 [==============================] - 0s 2ms/step - loss: 2456.8655 - mean_absolute_error: 2456.8655\n",
            "Epoch 88/300\n",
            "34/34 [==============================] - 0s 2ms/step - loss: 2439.0063 - mean_absolute_error: 2439.0063\n",
            "Epoch 89/300\n",
            "34/34 [==============================] - 0s 2ms/step - loss: 2416.2373 - mean_absolute_error: 2416.2373\n",
            "Epoch 90/300\n",
            "34/34 [==============================] - 0s 2ms/step - loss: 2399.7231 - mean_absolute_error: 2399.7231\n",
            "Epoch 91/300\n",
            "34/34 [==============================] - 0s 2ms/step - loss: 2378.4531 - mean_absolute_error: 2378.4531\n",
            "Epoch 92/300\n",
            "34/34 [==============================] - 0s 2ms/step - loss: 2362.4282 - mean_absolute_error: 2362.4282\n",
            "Epoch 93/300\n",
            "34/34 [==============================] - 0s 2ms/step - loss: 2355.4097 - mean_absolute_error: 2355.4097\n",
            "Epoch 94/300\n",
            "34/34 [==============================] - 0s 2ms/step - loss: 2331.6987 - mean_absolute_error: 2331.6987\n",
            "Epoch 95/300\n",
            "34/34 [==============================] - 0s 2ms/step - loss: 2311.6440 - mean_absolute_error: 2311.6440\n",
            "Epoch 96/300\n",
            "34/34 [==============================] - 0s 2ms/step - loss: 2306.0789 - mean_absolute_error: 2306.0789\n",
            "Epoch 97/300\n",
            "34/34 [==============================] - 0s 2ms/step - loss: 2290.0496 - mean_absolute_error: 2290.0496\n",
            "Epoch 98/300\n",
            "34/34 [==============================] - 0s 2ms/step - loss: 2265.4048 - mean_absolute_error: 2265.4048\n",
            "Epoch 99/300\n",
            "34/34 [==============================] - 0s 2ms/step - loss: 2256.7310 - mean_absolute_error: 2256.7310\n",
            "Epoch 100/300\n",
            "34/34 [==============================] - 0s 2ms/step - loss: 2234.3286 - mean_absolute_error: 2234.3286\n",
            "Epoch 101/300\n",
            "34/34 [==============================] - 0s 2ms/step - loss: 2209.2371 - mean_absolute_error: 2209.2371\n",
            "Epoch 102/300\n",
            "34/34 [==============================] - 0s 2ms/step - loss: 2198.4114 - mean_absolute_error: 2198.4114\n",
            "Epoch 103/300\n",
            "34/34 [==============================] - 0s 2ms/step - loss: 2192.0112 - mean_absolute_error: 2192.0112\n",
            "Epoch 104/300\n",
            "34/34 [==============================] - 0s 2ms/step - loss: 2167.1558 - mean_absolute_error: 2167.1558\n",
            "Epoch 105/300\n",
            "34/34 [==============================] - 0s 2ms/step - loss: 2148.3459 - mean_absolute_error: 2148.3459\n",
            "Epoch 106/300\n",
            "34/34 [==============================] - 0s 2ms/step - loss: 2138.3162 - mean_absolute_error: 2138.3162\n",
            "Epoch 107/300\n",
            "34/34 [==============================] - 0s 2ms/step - loss: 2132.7271 - mean_absolute_error: 2132.7271\n",
            "Epoch 108/300\n",
            "34/34 [==============================] - 0s 2ms/step - loss: 2106.9126 - mean_absolute_error: 2106.9126\n",
            "Epoch 109/300\n",
            "34/34 [==============================] - 0s 2ms/step - loss: 2093.1514 - mean_absolute_error: 2093.1514\n",
            "Epoch 110/300\n",
            "34/34 [==============================] - 0s 2ms/step - loss: 2111.5886 - mean_absolute_error: 2111.5886\n",
            "Epoch 111/300\n",
            "34/34 [==============================] - 0s 2ms/step - loss: 2080.5151 - mean_absolute_error: 2080.5151\n",
            "Epoch 112/300\n",
            "34/34 [==============================] - 0s 2ms/step - loss: 2060.2185 - mean_absolute_error: 2060.2185\n",
            "Epoch 113/300\n",
            "34/34 [==============================] - 0s 2ms/step - loss: 2044.4855 - mean_absolute_error: 2044.4855\n",
            "Epoch 114/300\n",
            "34/34 [==============================] - 0s 2ms/step - loss: 2035.5780 - mean_absolute_error: 2035.5780\n",
            "Epoch 115/300\n",
            "34/34 [==============================] - 0s 2ms/step - loss: 2034.6322 - mean_absolute_error: 2034.6322\n",
            "Epoch 116/300\n",
            "34/34 [==============================] - 0s 2ms/step - loss: 2028.3007 - mean_absolute_error: 2028.3007\n",
            "Epoch 117/300\n",
            "34/34 [==============================] - 0s 2ms/step - loss: 2007.9670 - mean_absolute_error: 2007.9670\n",
            "Epoch 118/300\n",
            "34/34 [==============================] - 0s 2ms/step - loss: 2003.4351 - mean_absolute_error: 2003.4351\n",
            "Epoch 119/300\n",
            "34/34 [==============================] - 0s 2ms/step - loss: 1998.4579 - mean_absolute_error: 1998.4579\n",
            "Epoch 120/300\n",
            "34/34 [==============================] - 0s 2ms/step - loss: 1993.4257 - mean_absolute_error: 1993.4257\n",
            "Epoch 121/300\n",
            "34/34 [==============================] - 0s 2ms/step - loss: 2002.8464 - mean_absolute_error: 2002.8464\n",
            "Epoch 122/300\n",
            "34/34 [==============================] - 0s 2ms/step - loss: 1986.9969 - mean_absolute_error: 1986.9969\n",
            "Epoch 123/300\n",
            "34/34 [==============================] - 0s 2ms/step - loss: 1978.5621 - mean_absolute_error: 1978.5621\n",
            "Epoch 124/300\n",
            "34/34 [==============================] - 0s 2ms/step - loss: 1977.9801 - mean_absolute_error: 1977.9801\n",
            "Epoch 125/300\n",
            "34/34 [==============================] - 0s 2ms/step - loss: 1969.0986 - mean_absolute_error: 1969.0986\n",
            "Epoch 126/300\n",
            "34/34 [==============================] - 0s 2ms/step - loss: 1973.6605 - mean_absolute_error: 1973.6605\n",
            "Epoch 127/300\n",
            "34/34 [==============================] - 0s 2ms/step - loss: 1981.7559 - mean_absolute_error: 1981.7559\n",
            "Epoch 128/300\n",
            "34/34 [==============================] - 0s 2ms/step - loss: 1970.9369 - mean_absolute_error: 1970.9369\n",
            "Epoch 129/300\n",
            "34/34 [==============================] - 0s 2ms/step - loss: 1965.7052 - mean_absolute_error: 1965.7052\n",
            "Epoch 130/300\n",
            "34/34 [==============================] - 0s 2ms/step - loss: 1960.1429 - mean_absolute_error: 1960.1429\n",
            "Epoch 131/300\n",
            "34/34 [==============================] - 0s 2ms/step - loss: 1959.8801 - mean_absolute_error: 1959.8801\n",
            "Epoch 132/300\n",
            "34/34 [==============================] - 0s 2ms/step - loss: 1976.9579 - mean_absolute_error: 1976.9579\n",
            "Epoch 133/300\n",
            "34/34 [==============================] - 0s 2ms/step - loss: 1974.6993 - mean_absolute_error: 1974.6993\n",
            "Epoch 134/300\n",
            "34/34 [==============================] - 0s 2ms/step - loss: 1962.2065 - mean_absolute_error: 1962.2065\n",
            "Epoch 135/300\n",
            "34/34 [==============================] - 0s 2ms/step - loss: 1955.9111 - mean_absolute_error: 1955.9111\n",
            "Epoch 136/300\n",
            "34/34 [==============================] - 0s 2ms/step - loss: 1952.7992 - mean_absolute_error: 1952.7992\n",
            "Epoch 137/300\n",
            "34/34 [==============================] - 0s 2ms/step - loss: 1952.1598 - mean_absolute_error: 1952.1598\n",
            "Epoch 138/300\n",
            "34/34 [==============================] - 0s 2ms/step - loss: 1954.7721 - mean_absolute_error: 1954.7721\n",
            "Epoch 139/300\n",
            "34/34 [==============================] - 0s 2ms/step - loss: 1951.0691 - mean_absolute_error: 1951.0691\n",
            "Epoch 140/300\n",
            "34/34 [==============================] - 0s 2ms/step - loss: 1952.0964 - mean_absolute_error: 1952.0964\n",
            "Epoch 141/300\n",
            "34/34 [==============================] - 0s 2ms/step - loss: 1951.8428 - mean_absolute_error: 1951.8428\n",
            "Epoch 142/300\n",
            "34/34 [==============================] - 0s 2ms/step - loss: 1964.9540 - mean_absolute_error: 1964.9540\n",
            "Epoch 143/300\n",
            "34/34 [==============================] - 0s 2ms/step - loss: 1951.0841 - mean_absolute_error: 1951.0841\n",
            "Epoch 144/300\n",
            "34/34 [==============================] - 0s 2ms/step - loss: 1946.0953 - mean_absolute_error: 1946.0953\n",
            "Epoch 145/300\n",
            "34/34 [==============================] - 0s 2ms/step - loss: 1944.7992 - mean_absolute_error: 1944.7992\n",
            "Epoch 146/300\n",
            "34/34 [==============================] - 0s 2ms/step - loss: 1959.6094 - mean_absolute_error: 1959.6094\n",
            "Epoch 147/300\n",
            "34/34 [==============================] - 0s 2ms/step - loss: 1935.4933 - mean_absolute_error: 1935.4933\n",
            "Epoch 148/300\n",
            "34/34 [==============================] - 0s 2ms/step - loss: 1939.5889 - mean_absolute_error: 1939.5889\n",
            "Epoch 149/300\n",
            "34/34 [==============================] - 0s 2ms/step - loss: 1945.0031 - mean_absolute_error: 1945.0031\n",
            "Epoch 150/300\n",
            "34/34 [==============================] - 0s 2ms/step - loss: 1949.5886 - mean_absolute_error: 1949.5886\n",
            "Epoch 151/300\n",
            "34/34 [==============================] - 0s 2ms/step - loss: 1943.3955 - mean_absolute_error: 1943.3955\n",
            "Epoch 152/300\n",
            "34/34 [==============================] - 0s 2ms/step - loss: 1941.7914 - mean_absolute_error: 1941.7914\n",
            "Epoch 153/300\n",
            "34/34 [==============================] - 0s 2ms/step - loss: 1942.1777 - mean_absolute_error: 1942.1777\n",
            "Epoch 154/300\n",
            "34/34 [==============================] - 0s 2ms/step - loss: 1932.9102 - mean_absolute_error: 1932.9102\n",
            "Epoch 155/300\n",
            "34/34 [==============================] - 0s 2ms/step - loss: 1935.5997 - mean_absolute_error: 1935.5997\n",
            "Epoch 156/300\n",
            "34/34 [==============================] - 0s 2ms/step - loss: 1934.8254 - mean_absolute_error: 1934.8254\n",
            "Epoch 157/300\n",
            "34/34 [==============================] - 0s 2ms/step - loss: 1935.7745 - mean_absolute_error: 1935.7745\n",
            "Epoch 158/300\n",
            "34/34 [==============================] - 0s 2ms/step - loss: 1964.6864 - mean_absolute_error: 1964.6864\n",
            "Epoch 159/300\n",
            "34/34 [==============================] - 0s 2ms/step - loss: 1963.5156 - mean_absolute_error: 1963.5156\n",
            "Epoch 160/300\n",
            "34/34 [==============================] - 0s 2ms/step - loss: 1965.1595 - mean_absolute_error: 1965.1595\n",
            "Epoch 161/300\n",
            "34/34 [==============================] - 0s 2ms/step - loss: 1933.8591 - mean_absolute_error: 1933.8591\n",
            "Epoch 162/300\n",
            "34/34 [==============================] - 0s 2ms/step - loss: 1938.0941 - mean_absolute_error: 1938.0941\n",
            "Epoch 163/300\n",
            "34/34 [==============================] - 0s 2ms/step - loss: 1930.9125 - mean_absolute_error: 1930.9125\n",
            "Epoch 164/300\n",
            "34/34 [==============================] - 0s 2ms/step - loss: 1941.5009 - mean_absolute_error: 1941.5009\n",
            "Epoch 165/300\n",
            "34/34 [==============================] - 0s 2ms/step - loss: 1928.1913 - mean_absolute_error: 1928.1913\n",
            "Epoch 166/300\n",
            "34/34 [==============================] - 0s 2ms/step - loss: 1942.0464 - mean_absolute_error: 1942.0464\n",
            "Epoch 167/300\n",
            "34/34 [==============================] - 0s 2ms/step - loss: 1939.3682 - mean_absolute_error: 1939.3682\n",
            "Epoch 168/300\n",
            "34/34 [==============================] - 0s 2ms/step - loss: 1951.2299 - mean_absolute_error: 1951.2299\n",
            "Epoch 169/300\n",
            "34/34 [==============================] - 0s 2ms/step - loss: 1931.9786 - mean_absolute_error: 1931.9786\n",
            "Epoch 170/300\n",
            "34/34 [==============================] - 0s 2ms/step - loss: 1953.2567 - mean_absolute_error: 1953.2567\n",
            "Epoch 171/300\n",
            "34/34 [==============================] - 0s 2ms/step - loss: 1941.0958 - mean_absolute_error: 1941.0958\n",
            "Epoch 172/300\n",
            "34/34 [==============================] - 0s 2ms/step - loss: 1931.5924 - mean_absolute_error: 1931.5924\n",
            "Epoch 173/300\n",
            "34/34 [==============================] - 0s 2ms/step - loss: 1923.7400 - mean_absolute_error: 1923.7400\n",
            "Epoch 174/300\n",
            "34/34 [==============================] - 0s 2ms/step - loss: 1932.3010 - mean_absolute_error: 1932.3010\n",
            "Epoch 175/300\n",
            "34/34 [==============================] - 0s 2ms/step - loss: 1930.5155 - mean_absolute_error: 1930.5155\n",
            "Epoch 176/300\n",
            "34/34 [==============================] - 0s 2ms/step - loss: 1926.6365 - mean_absolute_error: 1926.6365\n",
            "Epoch 177/300\n",
            "34/34 [==============================] - 0s 2ms/step - loss: 1931.9095 - mean_absolute_error: 1931.9095\n",
            "Epoch 178/300\n",
            "34/34 [==============================] - 0s 2ms/step - loss: 1921.0736 - mean_absolute_error: 1921.0736\n",
            "Epoch 179/300\n",
            "34/34 [==============================] - 0s 2ms/step - loss: 1923.1003 - mean_absolute_error: 1923.1003\n",
            "Epoch 180/300\n",
            "34/34 [==============================] - 0s 2ms/step - loss: 1923.1299 - mean_absolute_error: 1923.1299\n",
            "Epoch 181/300\n",
            "34/34 [==============================] - 0s 2ms/step - loss: 1946.6104 - mean_absolute_error: 1946.6104\n",
            "Epoch 182/300\n",
            "34/34 [==============================] - 0s 2ms/step - loss: 1919.8519 - mean_absolute_error: 1919.8519\n",
            "Epoch 183/300\n",
            "34/34 [==============================] - 0s 2ms/step - loss: 1926.6489 - mean_absolute_error: 1926.6489\n",
            "Epoch 184/300\n",
            "34/34 [==============================] - 0s 2ms/step - loss: 1927.3114 - mean_absolute_error: 1927.3114\n",
            "Epoch 185/300\n",
            "34/34 [==============================] - 0s 2ms/step - loss: 1929.6920 - mean_absolute_error: 1929.6920\n",
            "Epoch 186/300\n",
            "34/34 [==============================] - 0s 2ms/step - loss: 1918.2634 - mean_absolute_error: 1918.2634\n",
            "Epoch 187/300\n",
            "34/34 [==============================] - 0s 2ms/step - loss: 1917.4368 - mean_absolute_error: 1917.4368\n",
            "Epoch 188/300\n",
            "34/34 [==============================] - 0s 2ms/step - loss: 1934.9010 - mean_absolute_error: 1934.9010\n",
            "Epoch 189/300\n",
            "34/34 [==============================] - 0s 2ms/step - loss: 1935.3464 - mean_absolute_error: 1935.3464\n",
            "Epoch 190/300\n",
            "34/34 [==============================] - 0s 2ms/step - loss: 1917.2172 - mean_absolute_error: 1917.2172\n",
            "Epoch 191/300\n",
            "34/34 [==============================] - 0s 2ms/step - loss: 1921.1880 - mean_absolute_error: 1921.1880\n",
            "Epoch 192/300\n",
            "34/34 [==============================] - 0s 2ms/step - loss: 1931.1268 - mean_absolute_error: 1931.1268\n",
            "Epoch 193/300\n",
            "34/34 [==============================] - 0s 2ms/step - loss: 1925.6183 - mean_absolute_error: 1925.6183\n",
            "Epoch 194/300\n",
            "34/34 [==============================] - 0s 2ms/step - loss: 1914.5065 - mean_absolute_error: 1914.5065\n",
            "Epoch 195/300\n",
            "34/34 [==============================] - 0s 2ms/step - loss: 1919.1566 - mean_absolute_error: 1919.1566\n",
            "Epoch 196/300\n",
            "34/34 [==============================] - 0s 2ms/step - loss: 1924.8899 - mean_absolute_error: 1924.8899\n",
            "Epoch 197/300\n",
            "34/34 [==============================] - 0s 2ms/step - loss: 1931.9564 - mean_absolute_error: 1931.9564\n",
            "Epoch 198/300\n",
            "34/34 [==============================] - 0s 2ms/step - loss: 1919.9584 - mean_absolute_error: 1919.9584\n",
            "Epoch 199/300\n",
            "34/34 [==============================] - 0s 2ms/step - loss: 1909.7729 - mean_absolute_error: 1909.7729\n",
            "Epoch 200/300\n",
            "34/34 [==============================] - 0s 2ms/step - loss: 1914.6871 - mean_absolute_error: 1914.6871\n",
            "Epoch 201/300\n",
            "34/34 [==============================] - 0s 2ms/step - loss: 1909.6464 - mean_absolute_error: 1909.6464\n",
            "Epoch 202/300\n",
            "34/34 [==============================] - 0s 2ms/step - loss: 1910.7528 - mean_absolute_error: 1910.7528\n",
            "Epoch 203/300\n",
            "34/34 [==============================] - 0s 2ms/step - loss: 1914.3359 - mean_absolute_error: 1914.3359\n",
            "Epoch 204/300\n",
            "34/34 [==============================] - 0s 2ms/step - loss: 1916.7518 - mean_absolute_error: 1916.7518\n",
            "Epoch 205/300\n",
            "34/34 [==============================] - 0s 2ms/step - loss: 1923.8313 - mean_absolute_error: 1923.8313\n",
            "Epoch 206/300\n",
            "34/34 [==============================] - 0s 2ms/step - loss: 1906.1514 - mean_absolute_error: 1906.1514\n",
            "Epoch 207/300\n",
            "34/34 [==============================] - 0s 2ms/step - loss: 1901.7405 - mean_absolute_error: 1901.7405\n",
            "Epoch 208/300\n",
            "34/34 [==============================] - 0s 2ms/step - loss: 1915.3534 - mean_absolute_error: 1915.3534\n",
            "Epoch 209/300\n",
            "34/34 [==============================] - 0s 2ms/step - loss: 1907.9539 - mean_absolute_error: 1907.9539\n",
            "Epoch 210/300\n",
            "34/34 [==============================] - 0s 2ms/step - loss: 1900.1440 - mean_absolute_error: 1900.1440\n",
            "Epoch 211/300\n",
            "34/34 [==============================] - 0s 2ms/step - loss: 1926.6434 - mean_absolute_error: 1926.6434\n",
            "Epoch 212/300\n",
            "34/34 [==============================] - 0s 2ms/step - loss: 1928.1938 - mean_absolute_error: 1928.1938\n",
            "Epoch 213/300\n",
            "34/34 [==============================] - 0s 2ms/step - loss: 1902.5023 - mean_absolute_error: 1902.5023\n",
            "Epoch 214/300\n",
            "34/34 [==============================] - 0s 2ms/step - loss: 1906.9276 - mean_absolute_error: 1906.9276\n",
            "Epoch 215/300\n",
            "34/34 [==============================] - 0s 2ms/step - loss: 1902.6079 - mean_absolute_error: 1902.6079\n",
            "Epoch 216/300\n",
            "34/34 [==============================] - 0s 2ms/step - loss: 1906.9371 - mean_absolute_error: 1906.9371\n",
            "Epoch 217/300\n",
            "34/34 [==============================] - 0s 2ms/step - loss: 1905.3795 - mean_absolute_error: 1905.3795\n",
            "Epoch 218/300\n",
            "34/34 [==============================] - 0s 2ms/step - loss: 1909.0662 - mean_absolute_error: 1909.0662\n",
            "Epoch 219/300\n",
            "34/34 [==============================] - 0s 2ms/step - loss: 1892.8480 - mean_absolute_error: 1892.8480\n",
            "Epoch 220/300\n",
            "34/34 [==============================] - 0s 2ms/step - loss: 1895.0006 - mean_absolute_error: 1895.0006\n",
            "Epoch 221/300\n",
            "34/34 [==============================] - 0s 2ms/step - loss: 1902.9344 - mean_absolute_error: 1902.9344\n",
            "Epoch 222/300\n",
            "34/34 [==============================] - 0s 2ms/step - loss: 1892.7279 - mean_absolute_error: 1892.7279\n",
            "Epoch 223/300\n",
            "34/34 [==============================] - 0s 2ms/step - loss: 1913.4429 - mean_absolute_error: 1913.4429\n",
            "Epoch 224/300\n",
            "34/34 [==============================] - 0s 2ms/step - loss: 1918.8901 - mean_absolute_error: 1918.8901\n",
            "Epoch 225/300\n",
            "34/34 [==============================] - 0s 2ms/step - loss: 1912.1572 - mean_absolute_error: 1912.1572\n",
            "Epoch 226/300\n",
            "34/34 [==============================] - 0s 2ms/step - loss: 1938.7498 - mean_absolute_error: 1938.7498\n",
            "Epoch 227/300\n",
            "34/34 [==============================] - 0s 2ms/step - loss: 1888.5251 - mean_absolute_error: 1888.5251\n",
            "Epoch 228/300\n",
            "34/34 [==============================] - 0s 2ms/step - loss: 1886.7223 - mean_absolute_error: 1886.7223\n",
            "Epoch 229/300\n",
            "34/34 [==============================] - 0s 2ms/step - loss: 1897.3208 - mean_absolute_error: 1897.3208\n",
            "Epoch 230/300\n",
            "34/34 [==============================] - 0s 2ms/step - loss: 1886.9923 - mean_absolute_error: 1886.9923\n",
            "Epoch 231/300\n",
            "34/34 [==============================] - 0s 2ms/step - loss: 1898.9498 - mean_absolute_error: 1898.9498\n",
            "Epoch 232/300\n",
            "34/34 [==============================] - 0s 2ms/step - loss: 1887.9537 - mean_absolute_error: 1887.9537\n",
            "Epoch 233/300\n",
            "34/34 [==============================] - 0s 2ms/step - loss: 1890.6686 - mean_absolute_error: 1890.6686\n",
            "Epoch 234/300\n",
            "34/34 [==============================] - 0s 2ms/step - loss: 1890.2986 - mean_absolute_error: 1890.2986\n",
            "Epoch 235/300\n",
            "34/34 [==============================] - 0s 2ms/step - loss: 1886.7772 - mean_absolute_error: 1886.7772\n",
            "Epoch 236/300\n",
            "34/34 [==============================] - 0s 2ms/step - loss: 1885.9830 - mean_absolute_error: 1885.9830\n",
            "Epoch 237/300\n",
            "34/34 [==============================] - 0s 2ms/step - loss: 1879.2642 - mean_absolute_error: 1879.2642\n",
            "Epoch 238/300\n",
            "34/34 [==============================] - 0s 2ms/step - loss: 1889.0223 - mean_absolute_error: 1889.0223\n",
            "Epoch 239/300\n",
            "34/34 [==============================] - 0s 2ms/step - loss: 1880.4844 - mean_absolute_error: 1880.4844\n",
            "Epoch 240/300\n",
            "34/34 [==============================] - 0s 2ms/step - loss: 1894.2758 - mean_absolute_error: 1894.2758\n",
            "Epoch 241/300\n",
            "34/34 [==============================] - 0s 2ms/step - loss: 1877.3352 - mean_absolute_error: 1877.3352\n",
            "Epoch 242/300\n",
            "34/34 [==============================] - 0s 2ms/step - loss: 1876.3221 - mean_absolute_error: 1876.3221\n",
            "Epoch 243/300\n",
            "34/34 [==============================] - 0s 2ms/step - loss: 1881.1675 - mean_absolute_error: 1881.1675\n",
            "Epoch 244/300\n",
            "34/34 [==============================] - 0s 2ms/step - loss: 1865.7726 - mean_absolute_error: 1865.7726\n",
            "Epoch 245/300\n",
            "34/34 [==============================] - 0s 2ms/step - loss: 1869.2682 - mean_absolute_error: 1869.2682\n",
            "Epoch 246/300\n",
            "34/34 [==============================] - 0s 2ms/step - loss: 1881.9185 - mean_absolute_error: 1881.9185\n",
            "Epoch 247/300\n",
            "34/34 [==============================] - 0s 2ms/step - loss: 1891.1875 - mean_absolute_error: 1891.1875\n",
            "Epoch 248/300\n",
            "34/34 [==============================] - 0s 2ms/step - loss: 1875.7897 - mean_absolute_error: 1875.7897\n",
            "Epoch 249/300\n",
            "34/34 [==============================] - 0s 2ms/step - loss: 1867.0411 - mean_absolute_error: 1867.0411\n",
            "Epoch 250/300\n",
            "34/34 [==============================] - 0s 2ms/step - loss: 1874.7874 - mean_absolute_error: 1874.7874\n",
            "Epoch 251/300\n",
            "34/34 [==============================] - 0s 2ms/step - loss: 1866.7802 - mean_absolute_error: 1866.7802\n",
            "Epoch 252/300\n",
            "34/34 [==============================] - 0s 2ms/step - loss: 1874.7100 - mean_absolute_error: 1874.7100\n",
            "Epoch 253/300\n",
            "34/34 [==============================] - 0s 2ms/step - loss: 1888.6949 - mean_absolute_error: 1888.6949\n",
            "Epoch 254/300\n",
            "34/34 [==============================] - 0s 2ms/step - loss: 1868.4596 - mean_absolute_error: 1868.4596\n",
            "Epoch 255/300\n",
            "34/34 [==============================] - 0s 2ms/step - loss: 1858.9913 - mean_absolute_error: 1858.9913\n",
            "Epoch 256/300\n",
            "34/34 [==============================] - 0s 2ms/step - loss: 1861.6411 - mean_absolute_error: 1861.6411\n",
            "Epoch 257/300\n",
            "34/34 [==============================] - 0s 2ms/step - loss: 1865.2032 - mean_absolute_error: 1865.2032\n",
            "Epoch 258/300\n",
            "34/34 [==============================] - 0s 2ms/step - loss: 1870.9851 - mean_absolute_error: 1870.9851\n",
            "Epoch 259/300\n",
            "34/34 [==============================] - 0s 2ms/step - loss: 1865.2927 - mean_absolute_error: 1865.2927\n",
            "Epoch 260/300\n",
            "34/34 [==============================] - 0s 2ms/step - loss: 1860.6046 - mean_absolute_error: 1860.6046\n",
            "Epoch 261/300\n",
            "34/34 [==============================] - 0s 2ms/step - loss: 1868.4991 - mean_absolute_error: 1868.4991\n",
            "Epoch 262/300\n",
            "34/34 [==============================] - 0s 2ms/step - loss: 1883.4230 - mean_absolute_error: 1883.4230\n",
            "Epoch 263/300\n",
            "34/34 [==============================] - 0s 2ms/step - loss: 1865.9115 - mean_absolute_error: 1865.9115\n",
            "Epoch 264/300\n",
            "34/34 [==============================] - 0s 2ms/step - loss: 1856.6865 - mean_absolute_error: 1856.6865\n",
            "Epoch 265/300\n",
            "34/34 [==============================] - 0s 2ms/step - loss: 1855.3992 - mean_absolute_error: 1855.3992\n",
            "Epoch 266/300\n",
            "34/34 [==============================] - 0s 2ms/step - loss: 1854.8608 - mean_absolute_error: 1854.8608\n",
            "Epoch 267/300\n",
            "34/34 [==============================] - 0s 2ms/step - loss: 1858.6588 - mean_absolute_error: 1858.6588\n",
            "Epoch 268/300\n",
            "34/34 [==============================] - 0s 2ms/step - loss: 1853.8431 - mean_absolute_error: 1853.8431\n",
            "Epoch 269/300\n",
            "34/34 [==============================] - 0s 2ms/step - loss: 1868.4403 - mean_absolute_error: 1868.4403\n",
            "Epoch 270/300\n",
            "34/34 [==============================] - 0s 2ms/step - loss: 1848.3358 - mean_absolute_error: 1848.3358\n",
            "Epoch 271/300\n",
            "34/34 [==============================] - 0s 2ms/step - loss: 1859.9620 - mean_absolute_error: 1859.9620\n",
            "Epoch 272/300\n",
            "34/34 [==============================] - 0s 2ms/step - loss: 1852.0339 - mean_absolute_error: 1852.0339\n",
            "Epoch 273/300\n",
            "34/34 [==============================] - 0s 2ms/step - loss: 1851.4041 - mean_absolute_error: 1851.4041\n",
            "Epoch 274/300\n",
            "34/34 [==============================] - 0s 2ms/step - loss: 1842.4683 - mean_absolute_error: 1842.4683\n",
            "Epoch 275/300\n",
            "34/34 [==============================] - 0s 2ms/step - loss: 1844.0098 - mean_absolute_error: 1844.0098\n",
            "Epoch 276/300\n",
            "34/34 [==============================] - 0s 2ms/step - loss: 1852.4019 - mean_absolute_error: 1852.4019\n",
            "Epoch 277/300\n",
            "34/34 [==============================] - 0s 2ms/step - loss: 1840.4172 - mean_absolute_error: 1840.4172\n",
            "Epoch 278/300\n",
            "34/34 [==============================] - 0s 2ms/step - loss: 1845.7667 - mean_absolute_error: 1845.7667\n",
            "Epoch 279/300\n",
            "34/34 [==============================] - 0s 2ms/step - loss: 1856.3383 - mean_absolute_error: 1856.3383\n",
            "Epoch 280/300\n",
            "34/34 [==============================] - 0s 2ms/step - loss: 1837.4932 - mean_absolute_error: 1837.4932\n",
            "Epoch 281/300\n",
            "34/34 [==============================] - 0s 2ms/step - loss: 1833.2856 - mean_absolute_error: 1833.2856\n",
            "Epoch 282/300\n",
            "34/34 [==============================] - 0s 2ms/step - loss: 1840.7512 - mean_absolute_error: 1840.7512\n",
            "Epoch 283/300\n",
            "34/34 [==============================] - 0s 2ms/step - loss: 1833.7095 - mean_absolute_error: 1833.7095\n",
            "Epoch 284/300\n",
            "34/34 [==============================] - 0s 2ms/step - loss: 1830.9564 - mean_absolute_error: 1830.9564\n",
            "Epoch 285/300\n",
            "34/34 [==============================] - 0s 2ms/step - loss: 1828.6880 - mean_absolute_error: 1828.6880\n",
            "Epoch 286/300\n",
            "34/34 [==============================] - 0s 2ms/step - loss: 1824.8024 - mean_absolute_error: 1824.8024\n",
            "Epoch 287/300\n",
            "34/34 [==============================] - 0s 2ms/step - loss: 1842.1888 - mean_absolute_error: 1842.1888\n",
            "Epoch 288/300\n",
            "34/34 [==============================] - 0s 2ms/step - loss: 1849.4432 - mean_absolute_error: 1849.4432\n",
            "Epoch 289/300\n",
            "34/34 [==============================] - 0s 2ms/step - loss: 1840.8519 - mean_absolute_error: 1840.8519\n",
            "Epoch 290/300\n",
            "34/34 [==============================] - 0s 2ms/step - loss: 1833.1997 - mean_absolute_error: 1833.1997\n",
            "Epoch 291/300\n",
            "34/34 [==============================] - 0s 2ms/step - loss: 1833.9374 - mean_absolute_error: 1833.9374\n",
            "Epoch 292/300\n",
            "34/34 [==============================] - 0s 2ms/step - loss: 1827.0675 - mean_absolute_error: 1827.0675\n",
            "Epoch 293/300\n",
            "34/34 [==============================] - 0s 2ms/step - loss: 1832.1698 - mean_absolute_error: 1832.1698\n",
            "Epoch 294/300\n",
            "34/34 [==============================] - 0s 2ms/step - loss: 1827.4763 - mean_absolute_error: 1827.4763\n",
            "Epoch 295/300\n",
            "34/34 [==============================] - 0s 2ms/step - loss: 1826.5663 - mean_absolute_error: 1826.5663\n",
            "Epoch 296/300\n",
            "34/34 [==============================] - 0s 2ms/step - loss: 1819.4916 - mean_absolute_error: 1819.4916\n",
            "Epoch 297/300\n",
            "34/34 [==============================] - 0s 2ms/step - loss: 1813.3137 - mean_absolute_error: 1813.3137\n",
            "Epoch 298/300\n",
            "34/34 [==============================] - 0s 2ms/step - loss: 1818.9086 - mean_absolute_error: 1818.9086\n",
            "Epoch 299/300\n",
            "34/34 [==============================] - 0s 2ms/step - loss: 1818.7445 - mean_absolute_error: 1818.7445\n",
            "Epoch 300/300\n",
            "34/34 [==============================] - 0s 2ms/step - loss: 1813.3094 - mean_absolute_error: 1813.3094\n"
          ]
        }
      ]
    },
    {
      "cell_type": "code",
      "metadata": {
        "colab": {
          "base_uri": "https://localhost:8080/",
          "height": 296
        },
        "id": "eXVQmOQX4bbC",
        "outputId": "de21e11f-d3b3-4363-f090-8e33346e2a2f"
      },
      "source": [
        "plt.plot(history.epoch, history.history['loss'])\n",
        "plt.xlabel(\"epoch\")\n",
        "plt.ylabel(\"mean absolute error\")"
      ],
      "execution_count": 129,
      "outputs": [
        {
          "output_type": "execute_result",
          "data": {
            "text/plain": [
              "Text(0, 0.5, 'mean absolute error')"
            ]
          },
          "metadata": {},
          "execution_count": 129
        },
        {
          "output_type": "display_data",
          "data": {
            "image/png": "[encoded data removed]",
            "text/plain": [
              "<Figure size 432x288 with 1 Axes>"
            ]
          },
          "metadata": {
            "needs_background": "light"
          }
        }
      ]
    },
    {
      "cell_type": "code",
      "metadata": {
        "colab": {
          "base_uri": "https://localhost:8080/"
        },
        "id": "fY0laaFX1lCk",
        "outputId": "e0bb9c67-872f-46c9-9e56-5c4dd17b0698"
      },
      "source": [
        "X_test = oneHotNorm(X_test)\n",
        "model_01.evaluate(X_test, Y_test)"
      ],
      "execution_count": 143,
      "outputs": [
        {
          "output_type": "stream",
          "name": "stdout",
          "text": [
            "9/9 [==============================] - 0s 2ms/step - loss: 1953.3414 - mean_absolute_error: 1953.3414\n"
          ]
        },
        {
          "output_type": "execute_result",
          "data": {
            "text/plain": [
              "[1953.3414306640625, 1953.3414306640625]"
            ]
          },
          "metadata": {},
          "execution_count": 143
        }
      ]
    },
    {
      "cell_type": "code",
      "metadata": {
        "colab": {
          "base_uri": "https://localhost:8080/",
          "height": 282
        },
        "id": "0EXQVBri92xe",
        "outputId": "731625e4-31ec-4749-d61e-a896055f2802"
      },
      "source": [
        "Y_predict = model_01.predict(X_test)\n",
        "Y_predict = tf.squeeze(Y_predict, axis=-1)\n",
        "plt.plot(Y_test-Y_predict,'.')"
      ],
      "execution_count": 164,
      "outputs": [
        {
          "output_type": "execute_result",
          "data": {
            "text/plain": [
              "[<matplotlib.lines.Line2D at 0x7fa561265ed0>]"
            ]
          },
          "metadata": {},
          "execution_count": 164
        },
        {
          "output_type": "display_data",
          "data": {
            "image/png": "[encoded data removed]",
            "text/plain": [
              "<Figure size 432x288 with 1 Axes>"
            ]
          },
          "metadata": {
            "needs_background": "light"
          }
        }
      ]
    },
    {
      "cell_type": "code",
      "metadata": {
        "id": "1lYbkKYp_Aba"
      },
      "source": [
        ""
      ],
      "execution_count": null,
      "outputs": []
    }
  ]
}
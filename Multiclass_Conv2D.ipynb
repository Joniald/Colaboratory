{
  "nbformat": 4,
  "nbformat_minor": 0,
  "metadata": {
    "colab": {
      "name": "Multiclass_Conv2D.ipynb",
      "provenance": [],
      "authorship_tag": "ABX9TyOdebHXxJvkeJO7EfeQgIVL",
      "include_colab_link": true
    },
    "kernelspec": {
      "name": "python3",
      "display_name": "Python 3"
    },
    "language_info": {
      "name": "python"
    }
  },
  "cells": [
    {
      "cell_type": "markdown",
      "metadata": {
        "id": "view-in-github",
        "colab_type": "text"
      },
      "source": [
        "<a href=\"https://colab.research.google.com/github/Joniald/Colaboratory/blob/main/Multiclass_Conv2D.ipynb\" target=\"_parent\"><img src=\"https://colab.research.google.com/assets/colab-badge.svg\" alt=\"Open In Colab\"/></a>"
      ]
    },
    {
      "cell_type": "markdown",
      "metadata": {
        "id": "YRoY6WxxvR1b"
      },
      "source": [
        "Multi-Class Image Classification"
      ]
    },
    {
      "cell_type": "code",
      "metadata": {
        "id": "L2PAk0Luwx-4"
      },
      "source": [
        ""
      ],
      "execution_count": null,
      "outputs": []
    }
  ]
}
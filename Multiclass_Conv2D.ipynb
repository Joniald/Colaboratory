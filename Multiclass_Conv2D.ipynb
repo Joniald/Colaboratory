{
  "nbformat": 4,
  "nbformat_minor": 0,
  "metadata": {
    "colab": {
      "name": "Multiclass_Conv2D.ipynb",
      "provenance": [],
      "authorship_tag": "ABX9TyMsdMhcORX4PREWGJW6QyQT",
      "include_colab_link": true
    },
    "kernelspec": {
      "name": "python3",
      "display_name": "Python 3"
    },
    "language_info": {
      "name": "python"
    }
  },
  "cells": [
    {
      "cell_type": "markdown",
      "metadata": {
        "id": "view-in-github",
        "colab_type": "text"
      },
      "source": [
        "<a href=\"https://colab.research.google.com/github/Joniald/Colaboratory/blob/main/Multiclass_Conv2D.ipynb\" target=\"_parent\"><img src=\"https://colab.research.google.com/assets/colab-badge.svg\" alt=\"Open In Colab\"/></a>"
      ]
    },
    {
      "cell_type": "markdown",
      "metadata": {
        "id": "YRoY6WxxvR1b"
      },
      "source": [
        "Multi-Class Image Classification"
      ]
    },
    {
      "cell_type": "code",
      "metadata": {
        "colab": {
          "base_uri": "https://localhost:8080/"
        },
        "id": "L2PAk0Luwx-4",
        "outputId": "2fc51e54-c983-4280-dd11-0f10299716e2"
      },
      "source": [
        "import zipfile\n",
        "!wget https://storage.googleapis.com/ztm_tf_course/food_vision/10_food_classes_all_data.zip"
      ],
      "execution_count": 4,
      "outputs": [
        {
          "output_type": "stream",
          "name": "stdout",
          "text": [
            "--2021-10-16 11:11:06--  https://storage.googleapis.com/ztm_tf_course/food_vision/10_food_classes_all_data.zip\n",
            "Resolving storage.googleapis.com (storage.googleapis.com)... 172.217.203.128, 172.253.123.128, 108.177.11.128, ...\n",
            "Connecting to storage.googleapis.com (storage.googleapis.com)|172.217.203.128|:443... connected.\n",
            "HTTP request sent, awaiting response... 200 OK\n",
            "Length: 519183241 (495M) [application/zip]\n",
            "Saving to: ‘10_food_classes_all_data.zip’\n",
            "\n",
            "10_food_classes_all 100%[===================>] 495.13M   200MB/s    in 2.5s    \n",
            "\n",
            "2021-10-16 11:11:09 (200 MB/s) - ‘10_food_classes_all_data.zip’ saved [519183241/519183241]\n",
            "\n"
          ]
        }
      ]
    },
    {
      "cell_type": "code",
      "metadata": {
        "id": "LjTgpzjZzNmf"
      },
      "source": [
        "# Unzip our data\n",
        "zip_ref = zipfile.ZipFile('10_food_classes_all_data.zip','r')\n",
        "zip_ref.extractall()\n",
        "zip_ref.close()"
      ],
      "execution_count": 7,
      "outputs": []
    },
    {
      "cell_type": "code",
      "metadata": {
        "colab": {
          "base_uri": "https://localhost:8080/"
        },
        "id": "Jm_ywp6H0bTv",
        "outputId": "0338002a-bc3f-42f0-d7ca-407f0d9c63a4"
      },
      "source": [
        "import os\n",
        "for dirpath, dirnames, filenames in os.walk('10_food_classes_all_data'):\n",
        "   print('There are {} directories and {} images in {}'.format(len(dirnames),len(filenames),dirpath)) "
      ],
      "execution_count": 11,
      "outputs": [
        {
          "output_type": "stream",
          "name": "stdout",
          "text": [
            "There are 2 directories and 0 images in 10_food_classes_all_data\n",
            "There are 10 directories and 0 images in 10_food_classes_all_data/train\n",
            "There are 0 directories and 750 images in 10_food_classes_all_data/train/grilled_salmon\n",
            "There are 0 directories and 750 images in 10_food_classes_all_data/train/ramen\n",
            "There are 0 directories and 750 images in 10_food_classes_all_data/train/steak\n",
            "There are 0 directories and 750 images in 10_food_classes_all_data/train/fried_rice\n",
            "There are 0 directories and 750 images in 10_food_classes_all_data/train/sushi\n",
            "There are 0 directories and 750 images in 10_food_classes_all_data/train/pizza\n",
            "There are 0 directories and 750 images in 10_food_classes_all_data/train/chicken_curry\n",
            "There are 0 directories and 750 images in 10_food_classes_all_data/train/hamburger\n",
            "There are 0 directories and 750 images in 10_food_classes_all_data/train/ice_cream\n",
            "There are 0 directories and 750 images in 10_food_classes_all_data/train/chicken_wings\n",
            "There are 10 directories and 0 images in 10_food_classes_all_data/test\n",
            "There are 0 directories and 250 images in 10_food_classes_all_data/test/grilled_salmon\n",
            "There are 0 directories and 250 images in 10_food_classes_all_data/test/ramen\n",
            "There are 0 directories and 250 images in 10_food_classes_all_data/test/steak\n",
            "There are 0 directories and 250 images in 10_food_classes_all_data/test/fried_rice\n",
            "There are 0 directories and 250 images in 10_food_classes_all_data/test/sushi\n",
            "There are 0 directories and 250 images in 10_food_classes_all_data/test/pizza\n",
            "There are 0 directories and 250 images in 10_food_classes_all_data/test/chicken_curry\n",
            "There are 0 directories and 250 images in 10_food_classes_all_data/test/hamburger\n",
            "There are 0 directories and 250 images in 10_food_classes_all_data/test/ice_cream\n",
            "There are 0 directories and 250 images in 10_food_classes_all_data/test/chicken_wings\n"
          ]
        }
      ]
    },
    {
      "cell_type": "code",
      "metadata": {
        "id": "3pNWIaoS0mjd"
      },
      "source": [
        ""
      ],
      "execution_count": null,
      "outputs": []
    }
  ]
}